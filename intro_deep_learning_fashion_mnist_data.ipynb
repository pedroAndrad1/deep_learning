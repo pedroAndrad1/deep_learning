{
  "nbformat": 4,
  "nbformat_minor": 0,
  "metadata": {
    "colab": {
      "name": "intro_deep_learning_fashion-mnist_data.ipynb",
      "version": "0.3.2",
      "provenance": [],
      "collapsed_sections": [],
      "include_colab_link": true
    },
    "kernelspec": {
      "name": "python3",
      "display_name": "Python 3"
    }
  },
  "cells": [
    {
      "cell_type": "markdown",
      "metadata": {
        "id": "view-in-github",
        "colab_type": "text"
      },
      "source": [
        "<a href=\"https://colab.research.google.com/github/pedroAndrad1/deep_learning/blob/master/intro_deep_learning_fashion_mnist_data.ipynb\" target=\"_parent\"><img src=\"https://colab.research.google.com/assets/colab-badge.svg\" alt=\"Open In Colab\"/></a>"
      ]
    },
    {
      "cell_type": "markdown",
      "metadata": {
        "id": "UHuNunqPsplg",
        "colab_type": "text"
      },
      "source": [
        "#Explorando o Dataset\n",
        "\n",
        "        Aqui vamos estudar deep learning que é uma ramificação do machine learning. No machine learning, para classificar itens, tínhamos um dataset com as varíaveis dos itens. Por exemplo, numa situação em que desejamos classificar animais entre porco e cachorro, teriámos uma dataset que diria se o animal late, tem pata curta, comprimento dos pelos etc. Mas imagine fazer isso para classificar imagens de roupas. Existem centenas de características para uma roupa. Isso dificulta muito o processo.\n",
        "\n",
        "        No deep learning, ao invés de utilizarmos essas características previamente ditas, utilizamos funções matemáticas para extrair essas características da imagem. Aqui usaremos um dataset muito famoso, o fashion_mnist. Muito recomendado para deep learning. Neste daset há setenta mil imagens de roupas de uma loja alemã chamada zalango. Todas as imagens estão em um formato de 28 x 28 pixels.\n",
        "\n",
        "        Utilizaremos a biblioteca Keras para a nossa modelagem e aprendizado. Esta biblioteca roda em cima de outra biblioteca chamada TensorFlow. Para facilitar o trabalho, usaremos o Keras que é mais alto nível que o TensorFlow. Mas lembre-se, quanto mais alto nível, menos controle temos sobre o que está acotecendo por de baixo dos panos.\n",
        "\n",
        "Docs:\n",
        "\n",
        "https://www.tensorflow.org\n",
        "\n",
        "https://keras.io"
      ]
    },
    {
      "cell_type": "code",
      "metadata": {
        "id": "ije3e5HLnfPZ",
        "colab_type": "code",
        "colab": {}
      },
      "source": [
        "from tensorflow import keras\n",
        "\n",
        "#O dataset que sera usado ja esta dentro do keras.\n",
        "#O que faz sentido, visto que ele e tao famoso e usado.\n",
        "\n",
        "#Aqui ainda nao carregamos o dataset, so damos o endereco dele.\n",
        "\n",
        "fashion_mnist = keras.datasets.fashion_mnist\n",
        "\n",
        "#Para carregar o dataset, usaremos a funcao load_data() do objeto que recebemos acima.\n",
        "#Esta funcao nos retorna uma 2-tupla cada elemento dessa tupla tambem sao 2-tupla.\n",
        "#Esses elementos ja sao o nosso dataset splitado em treino e teste. \n",
        "#E retornado o seguinte: ( (x_treino, y_treino) , (x_teste, y_teste) ).\n",
        "#Por default, e splitado, nesse caso, 60000 para treino e 10000 para teste.\n",
        "#Nao sei como funciona para outros datasets, so lendo a documentacao.\n",
        "\n",
        "#Obs: Tentei receber o retorn da funcao usando\n",
        "#x_treino, y_treino, x_teste, y_teste, como no retorno do train_test_split.\n",
        "#Nao deu certo, tem que usar tuplas mesmo.\n",
        "#Mas depois da pra chamar cada variavel individualmente.\n",
        "\n",
        "(x_treino, y_treino), (x_teste, y_teste) = fashion_mnist.load_data()"
      ],
      "execution_count": 0,
      "outputs": []
    },
    {
      "cell_type": "markdown",
      "metadata": {
        "id": "bWIpmf0WwHvy",
        "colab_type": "text"
      },
      "source": [
        "Com o dataset em mão, vamos dar uma olhada em seu conteúdo. Vamos ver o que tem no x_treino."
      ]
    },
    {
      "cell_type": "code",
      "metadata": {
        "id": "anltaXahwN7E",
        "colab_type": "code",
        "outputId": "67122652-037e-40a6-a00f-d3d494eccf31",
        "colab": {
          "base_uri": "https://localhost:8080/",
          "height": 850
        }
      },
      "source": [
        "x_treino"
      ],
      "execution_count": 0,
      "outputs": [
        {
          "output_type": "execute_result",
          "data": {
            "text/plain": [
              "array([[[0, 0, 0, ..., 0, 0, 0],\n",
              "        [0, 0, 0, ..., 0, 0, 0],\n",
              "        [0, 0, 0, ..., 0, 0, 0],\n",
              "        ...,\n",
              "        [0, 0, 0, ..., 0, 0, 0],\n",
              "        [0, 0, 0, ..., 0, 0, 0],\n",
              "        [0, 0, 0, ..., 0, 0, 0]],\n",
              "\n",
              "       [[0, 0, 0, ..., 0, 0, 0],\n",
              "        [0, 0, 0, ..., 0, 0, 0],\n",
              "        [0, 0, 0, ..., 0, 0, 0],\n",
              "        ...,\n",
              "        [0, 0, 0, ..., 0, 0, 0],\n",
              "        [0, 0, 0, ..., 0, 0, 0],\n",
              "        [0, 0, 0, ..., 0, 0, 0]],\n",
              "\n",
              "       [[0, 0, 0, ..., 0, 0, 0],\n",
              "        [0, 0, 0, ..., 0, 0, 0],\n",
              "        [0, 0, 0, ..., 0, 0, 0],\n",
              "        ...,\n",
              "        [0, 0, 0, ..., 0, 0, 0],\n",
              "        [0, 0, 0, ..., 0, 0, 0],\n",
              "        [0, 0, 0, ..., 0, 0, 0]],\n",
              "\n",
              "       ...,\n",
              "\n",
              "       [[0, 0, 0, ..., 0, 0, 0],\n",
              "        [0, 0, 0, ..., 0, 0, 0],\n",
              "        [0, 0, 0, ..., 0, 0, 0],\n",
              "        ...,\n",
              "        [0, 0, 0, ..., 0, 0, 0],\n",
              "        [0, 0, 0, ..., 0, 0, 0],\n",
              "        [0, 0, 0, ..., 0, 0, 0]],\n",
              "\n",
              "       [[0, 0, 0, ..., 0, 0, 0],\n",
              "        [0, 0, 0, ..., 0, 0, 0],\n",
              "        [0, 0, 0, ..., 0, 0, 0],\n",
              "        ...,\n",
              "        [0, 0, 0, ..., 0, 0, 0],\n",
              "        [0, 0, 0, ..., 0, 0, 0],\n",
              "        [0, 0, 0, ..., 0, 0, 0]],\n",
              "\n",
              "       [[0, 0, 0, ..., 0, 0, 0],\n",
              "        [0, 0, 0, ..., 0, 0, 0],\n",
              "        [0, 0, 0, ..., 0, 0, 0],\n",
              "        ...,\n",
              "        [0, 0, 0, ..., 0, 0, 0],\n",
              "        [0, 0, 0, ..., 0, 0, 0],\n",
              "        [0, 0, 0, ..., 0, 0, 0]]], dtype=uint8)"
            ]
          },
          "metadata": {
            "tags": []
          },
          "execution_count": 2
        }
      ]
    },
    {
      "cell_type": "markdown",
      "metadata": {
        "id": "OdLkOJAWwUmh",
        "colab_type": "text"
      },
      "source": [
        "Vemos que é um array de varíos, mas precisamente 60000, arrays de 28 por 28. Estes arrays representam as nossas imagens. Cada array tem 28 por 28 porque cada imagem é de 28 x 28 pixels."
      ]
    },
    {
      "cell_type": "code",
      "metadata": {
        "id": "l1sWmAUYwtvs",
        "colab_type": "code",
        "outputId": "03e01d9a-afba-4085-f9b1-b7cc23c01d0e",
        "colab": {
          "base_uri": "https://localhost:8080/",
          "height": 34
        }
      },
      "source": [
        "x_treino.shape\n",
        "\n",
        "#Vendo o atributo shape, vemos essas informacoes.\n",
        "#O primeiro elemento diz que o length do array e de 60000.\n",
        "#A segunda e terceria informacoes dizem que cada elemento de 28x28."
      ],
      "execution_count": 0,
      "outputs": [
        {
          "output_type": "execute_result",
          "data": {
            "text/plain": [
              "(60000, 28, 28)"
            ]
          },
          "metadata": {
            "tags": []
          },
          "execution_count": 3
        }
      ]
    },
    {
      "cell_type": "markdown",
      "metadata": {
        "id": "5h3B_ANCzlTx",
        "colab_type": "text"
      },
      "source": [
        "Mas so temos numeros que representam uma imagem. Vamos usar entao o modulo plyplot da biblioteca matplotlib para plotar essas informacoes como uma imagem.\n",
        "\n",
        "docs:\n",
        "\n",
        "https://matplotlib.org/3.1.1/tutorials/introductory/pyplot.html"
      ]
    },
    {
      "cell_type": "code",
      "metadata": {
        "id": "wjOYOj7Pz6tt",
        "colab_type": "code",
        "outputId": "285e13b7-5668-49cc-c169-312942fe6c92",
        "colab": {
          "base_uri": "https://localhost:8080/",
          "height": 286
        }
      },
      "source": [
        "import matplotlib.pyplot as plt\n",
        "\n",
        "#Passaremos um elemento do x_treino para a funcao imshow do plt\n",
        "#para esta plotar uma imagem.\n",
        "\n",
        "plt.imshow(x_treino[0])"
      ],
      "execution_count": 0,
      "outputs": [
        {
          "output_type": "execute_result",
          "data": {
            "text/plain": [
              "<matplotlib.image.AxesImage at 0x7f44a2a4dd68>"
            ]
          },
          "metadata": {
            "tags": []
          },
          "execution_count": 4
        },
        {
          "output_type": "display_data",
          "data": {
            "image/png": "[encoded data removed]",
            "text/plain": [
              "<Figure size 432x288 with 1 Axes>"
            ]
          },
          "metadata": {
            "tags": []
          }
        }
      ]
    },
    {
      "cell_type": "markdown",
      "metadata": {
        "id": "_MeBx8CY4J8Z",
        "colab_type": "text"
      },
      "source": [
        "Vamos agora explorar nossas classes."
      ]
    },
    {
      "cell_type": "code",
      "metadata": {
        "id": "NIN1j1C94NBo",
        "colab_type": "code",
        "outputId": "1b406016-f309-4377-e29c-19dce52a1bf0",
        "colab": {
          "base_uri": "https://localhost:8080/",
          "height": 34
        }
      },
      "source": [
        "y_treino"
      ],
      "execution_count": 0,
      "outputs": [
        {
          "output_type": "execute_result",
          "data": {
            "text/plain": [
              "array([9, 0, 0, ..., 3, 0, 5], dtype=uint8)"
            ]
          },
          "metadata": {
            "tags": []
          },
          "execution_count": 5
        }
      ]
    },
    {
      "cell_type": "markdown",
      "metadata": {
        "id": "mejWHxhW4TYD",
        "colab_type": "text"
      },
      "source": [
        "Opa, esperávamos que nossas classes fossem nomes como camise, tênis etc. Acontece que o dataset usa números para identificar as classes e tem uma legenda na documentação:\n",
        "\n",
        "https://github.com/zalandoresearch/fashion-mnist\n",
        "\n",
        "Esta é a legenda:\n",
        "\n",
        "0\tT-shirt/top\n",
        "\n",
        "1\tTrouser\n",
        "\n",
        "2\tPullover\n",
        "\n",
        "3\tDress\n",
        "\n",
        "4\tCoat\n",
        "\n",
        "5\tSandal\n",
        "\n",
        "6\tShirt\n",
        "\n",
        "7\tSneaker\n",
        "\n",
        "8\tBag\n",
        "\n",
        "9\tAnkle boot\n",
        "\n",
        "Vamos então criar um array com as os nomes das classes.\n"
      ]
    },
    {
      "cell_type": "code",
      "metadata": {
        "id": "DJGkyovN4Psa",
        "colab_type": "code",
        "colab": {}
      },
      "source": [
        "y_nomes = [\"T-shirt/top\", \"Trouser\", \"Pullover\", \" Dress\", \"Coat\", \"Sandal\", \"Shirt\", \"Sneaker\", \" Bag\", \"Ankle boot\" ]"
      ],
      "execution_count": 0,
      "outputs": []
    },
    {
      "cell_type": "markdown",
      "metadata": {
        "id": "DULrabNE5ikO",
        "colab_type": "text"
      },
      "source": [
        "Feito isso, vamos imprimir um conjunto de imagens usando a função subplot() do plt. \n",
        "Esta função recebe como parametrô o número de linhas, de colunas e o último é um idenx para posicionar cada imagem.Também vou usar a função title para dar um título a cada imagem.\n",
        "\n",
        "docs:\n",
        "\n",
        "https://matplotlib.org/3.1.1/api/_as_gen/matplotlib.pyplot.subplot.html\n",
        "\n",
        "Vou usar um for para iterar pelo x_treino e y_treino e plotar os elementos."
      ]
    },
    {
      "cell_type": "code",
      "metadata": {
        "id": "SMf5FMZI6PAD",
        "colab_type": "code",
        "outputId": "d7bd362c-6741-4d1d-88d1-f24a112d558d",
        "colab": {
          "base_uri": "https://localhost:8080/",
          "height": 240
        }
      },
      "source": [
        "for imagens in range(10):\n",
        "  #Serao duas linhas e 5 colunas\n",
        "  plt.subplot(2,5, imagens+1)\n",
        "  #Plotando a imagem\n",
        "  plt.imshow(x_treino[imagens])\n",
        "  #Dando um titulo para a imagem.\n",
        "  #O titulo sera a String na posicao da classe no array y_nomes.\n",
        "  plt.title(y_nomes[ y_treino[imagens] ])"
      ],
      "execution_count": 0,
      "outputs": [
        {
          "output_type": "display_data",
          "data": {
            "image/png": "[encoded data removed]",
            "text/plain": [
              "<Figure size 432x288 with 10 Axes>"
            ]
          },
          "metadata": {
            "tags": []
          }
        }
      ]
    },
    {
      "cell_type": "markdown",
      "metadata": {
        "id": "cBGsMcfUBUy7",
        "colab_type": "text"
      },
      "source": [
        "#Costruindo o modelo\n",
        "\n",
        "Antes, machine learning, tínhamos 3 elementos: A entrada, o processamento e a saída. A entrada eram as nossas features, o processamento era o modelo e a sáida eram os predict's que o modelo dava. \n",
        "\n",
        "Aqui, nosso modelo incorporá estes três elementos. Estas serão as camadas do modelo. Usaremos um modelo sequencial do Keras, keras.Sequential.\n",
        "\n",
        "docs:\n",
        "\n",
        "https://keras.io/getting-started/sequential-model-guide/"
      ]
    },
    {
      "cell_type": "markdown",
      "metadata": {
        "id": "KK9W5l4ICsS8",
        "colab_type": "text"
      },
      "source": [
        "#Camada 0\n",
        "\n",
        "Nesta camada estão os primeiros neurônios que terão contato com o input, aqui vamos dizer qual é o shape (formato) das entradas com as quais o modelo vai trabalhar. \n",
        "\n",
        "Camada em inglês é layer, e o Keras possui várias camadas, então escreveremos layers.\n",
        "\n",
        "Para transformarmos a nossa imagem de 28 x 28px em um array de 1 dimensão, com todos esses 28, 28 pixels, que serão a entrada, iremos fazer um achatamento para as dimensões vetoriais. Isso em inglês fica Flatten, então usaremos keras.layers.Flatten, e como é uma função, abriremos e fecharemos parênteses, passando as nossas imagens de entrada para dentro dessa primeira camada, ou camada 0.\n",
        "\n",
        "Note na documentação da funçao Sequential que há várias formas além desta de cosntruir a camada 0.\n",
        "\n",
        "docs:\n",
        "\n",
        "https://keras.io/layers/core/"
      ]
    },
    {
      "cell_type": "code",
      "metadata": {
        "id": "FTELBpkVCwED",
        "colab_type": "code",
        "colab": {}
      },
      "source": [
        "camada0 = keras.layers.Flatten( input_shape = (28,28) )"
      ],
      "execution_count": 0,
      "outputs": []
    },
    {
      "cell_type": "markdown",
      "metadata": {
        "id": "IUlE9Srxocsm",
        "colab_type": "text"
      },
      "source": [
        "#Camada 1\n",
        "\n",
        "        Aqui estarão a segunda linha de neurônios que estarão densamente conectados com os neurônios da camada anterior, ou seja, cada neurônio estará conectado com todos os n neurônios da camada anterior.\n",
        "\n",
        "        Aqui precisamos dizer quantos neurônios terão nessa camada. Ainda não sei se há uma forma de dizer quantos neurônios nesta camda é o ideal para uma melhor performance do modelo, além da tentativa e erro. \n",
        "\n",
        "        Além disso, precisamos passar como parâmetro a função de ativação desses neurônios.\n",
        "        \n",
        "        Aqui usaremos a função Dense do módulo layers da biblioteca Keras para criar essa camada. A função Dense recebe como parâmetro o número de neurônios que a camada terá, é sempre bom usar um múltiplo de 2, e a função de ativação que nesse caso será a a relu do módulo nn(Neural Networks) da biblioteca TensorFlow. A função Dense tem vários outros possíveis parâmetros interessantes. Recomendo ler a documentação no link abaixo.\n",
        "        \n",
        "\n",
        "Docs:\n",
        "\n",
        "https://keras.io/layers/core/\n",
        "\n",
        "https://www.tensorflow.org/api_docs/python/tf/nn/relu\n",
        "\n",
        "        A documentação do relu não me diz nada sobre como este funciona. Então vou escrever aqui o que eu sou sobre o relu. O relu é uma função de ativação não linear, a qual qualquer  entrada negativa é jogada em 0 e as entradas positivas continuam positivas,mas não necessariamente iguais. A não linearidade é um fator muito interessante pois eu não consigo pensar em uma forma de traçar uma reta que divide todas as nossas 10 classes. Conceitualmete, o relu vai procurar entender os contornos das imagens. \n",
        "       \n",
        "       A entrada da função reLu é a entrada no neurônio vezes o peso mais o vies, reLu( (entrada * peso) + vies ). Dependendo dos valores do peso e do vies, a função terá resultados diferentes. Em geral, toda função de ativação tem essa entrada.\n",
        "        \n",
        "       Fonte: Curso Deep learning parte 1 do alura, aula 3 e 4.\n",
        "\n",
        "\n",
        "\n"
      ]
    },
    {
      "cell_type": "code",
      "metadata": {
        "id": "NtYjkWlWt2C1",
        "colab_type": "code",
        "outputId": "62c61923-6327-46c9-a388-02eb97d40f4b",
        "colab": {
          "base_uri": "https://localhost:8080/",
          "height": 105
        }
      },
      "source": [
        "import tensorflow\n",
        "\n",
        "#Chutei 256 neuronios, porque sei la.\n",
        "camada1 = keras.layers.Dense(256, tensorflow.nn.relu )"
      ],
      "execution_count": 0,
      "outputs": [
        {
          "output_type": "stream",
          "text": [
            "WARNING: Logging before flag parsing goes to stderr.\n",
            "W0715 00:17:26.207434 139933725419392 deprecation.py:506] From /usr/local/lib/python3.6/dist-packages/tensorflow/python/ops/init_ops.py:1251: calling VarianceScaling.__init__ (from tensorflow.python.ops.init_ops) with dtype is deprecated and will be removed in a future version.\n",
            "Instructions for updating:\n",
            "Call initializer instance with the dtype argument instead of passing it to the constructor\n"
          ],
          "name": "stderr"
        }
      ]
    },
    {
      "cell_type": "markdown",
      "metadata": {
        "id": "7ZlB7JP-w5yq",
        "colab_type": "text"
      },
      "source": [
        "#Camada 2\n",
        "\n",
        "Aqui teremos a última camada de neurônios que estarão também densamente conectados aos neurônios da camada anterior. A função de ativação aqui era a softmax. Como também a documentação dessa função não diz como ela funciona. Direi o que sei sobre ela: O softmax vai calcular as probabilidades de um dado item ser de cada classe, as probabilidades estarão na forma de números entre 0 e 1. Se a soma dessas probabilidades for igual a 1, então ele classifica o item como da classe da probabilidade mais alta. Não sei o que ele faz caso a soma não seja igual a 1. :( Fonte: Curso de Deep Learnig do alura, aula 3.\n"
      ]
    },
    {
      "cell_type": "code",
      "metadata": {
        "id": "OQMkWwz8ydrg",
        "colab_type": "code",
        "colab": {}
      },
      "source": [
        "#Vou colocar 10 neuronios aqui, ja que sao 10 classes.\n",
        "camada2 = keras.layers.Dense(10, tensorflow.nn.softmax )"
      ],
      "execution_count": 0,
      "outputs": []
    },
    {
      "cell_type": "markdown",
      "metadata": {
        "id": "11dpGQKIywEa",
        "colab_type": "text"
      },
      "source": [
        "#Multi-Camadas vs Deep Learning\n",
        "\n",
        "Há uma discussão se esse modelo poderia ser considerado Deep Learning. Alguns dizem que ele poderia ser considerado Deep Learning porque deveriam haver camadas intermediárias entre a camada 1 e 2, e que na verdade esse modelo seria um multicamada. Outros dizem que isso é deep learning. Uma discussão conceitual."
      ]
    },
    {
      "cell_type": "markdown",
      "metadata": {
        "id": "zzMbL2ZazihD",
        "colab_type": "text"
      },
      "source": [
        "#Compilando o modelo\n",
        "\n",
        "Diferente de como é feito no machine learning, não podemos ainda dizer para o nosso modelo dar um fit com os nossos dados e fazer os predict's. O modelo tem uma função chamada compile. Esta função receberá dois parâmetros: optimizer e loss. O optimizer e qual otimizador será usado para o aprendizado e o loss é de que forma a perda de informação será calculado. Existem vários otimizadores e varías formas de se calcular a perda. O otimizador tem a função de regular os pesos de cada entrada nos neurônios para reduzir ao máximo a perda, por exemplos, o gradiente descendente estocástico (SGD).\n",
        "\n",
        "Useremos a adam como otimizador e usaremos o sparse_categorical_crossentropy.\n",
        "\n",
        "fonte: https://blog.algorithmia.com/introduction-to-optimizers/\n",
        "\n",
        "adam paper: https://arxiv.org/pdf/1412.6980.pdf\n",
        "\n"
      ]
    },
    {
      "cell_type": "code",
      "metadata": {
        "id": "wq--Uoai4j3S",
        "colab_type": "code",
        "outputId": "f2b3d925-6edb-4ff0-ecf6-ed070cf2cb4d",
        "colab": {
          "base_uri": "https://localhost:8080/",
          "height": 51
        }
      },
      "source": [
        "#Antes precisamos instanciar o modelo kk.\n",
        "#O Sequential recebe as camadas por meio de uma lista.\n",
        "modelo = keras.Sequential( [camada0, camada1, camada2 ])\n",
        "\n",
        "#Compilando o model\n",
        "modelo.compile('adam', 'sparse_categorical_crossentropy')\n",
        "\n",
        "#Agora sim podemos dar um fit\n",
        "\n",
        "modelo.fit(x_treino, y_treino)\n",
        "\n",
        "#A genre pode ver na saida qual foi a perda do modelo, quantas instancias foram\n",
        "#treinadas e quanto tempo levou no total e para cada instancia na media."
      ],
      "execution_count": 0,
      "outputs": [
        {
          "output_type": "stream",
          "text": [
            "60000/60000 [==============================] - 5s 80us/sample - loss: 3.8035\n"
          ],
          "name": "stdout"
        },
        {
          "output_type": "execute_result",
          "data": {
            "text/plain": [
              "<tensorflow.python.keras.callbacks.History at 0x7f449f6d0438>"
            ]
          },
          "metadata": {
            "tags": []
          },
          "execution_count": 11
        }
      ]
    },
    {
      "cell_type": "markdown",
      "metadata": {
        "id": "zj5GGsOt7pka",
        "colab_type": "text"
      },
      "source": [
        "#Normalização\n",
        "\n",
        "Como podemos diminuir a perda do modelo? Vamos focar na camada 0. Ela recebe os pixe's da imagem. Cada pixel tem um valor que representa uma cor. Vamos ver como esse valor varia.\n",
        "\n",
        "Vou plotar uma barra de cores pra uma das imagens do dataset usando a função colorbar do plt."
      ]
    },
    {
      "cell_type": "code",
      "metadata": {
        "id": "spVQsCz2_kYv",
        "colab_type": "code",
        "outputId": "df4e3c8d-b02e-45ad-dafb-98b608616d84",
        "colab": {
          "base_uri": "https://localhost:8080/",
          "height": 286
        }
      },
      "source": [
        "plt.imshow(x_treino[0])\n",
        "plt.colorbar()"
      ],
      "execution_count": 0,
      "outputs": [
        {
          "output_type": "execute_result",
          "data": {
            "text/plain": [
              "<matplotlib.colorbar.Colorbar at 0x7f449ff6c400>"
            ]
          },
          "metadata": {
            "tags": []
          },
          "execution_count": 12
        },
        {
          "output_type": "display_data",
          "data": {
            "image/png": "[encoded data removed]",
            "text/plain": [
              "<Figure size 432x288 with 2 Axes>"
            ]
          },
          "metadata": {
            "tags": []
          }
        }
      ]
    },
    {
      "cell_type": "markdown",
      "metadata": {
        "id": "8XXBYYo1_5xL",
        "colab_type": "text"
      },
      "source": [
        "Vemos que esses números que representam as cores variam de 0 a 250. Essa é uma variação grande. Vamos fazer com que esses valores variem entre 0 e 1. Como? Simplesmente divindo o x_treino por 250.0. O \".0\" e para transformar o resultado em floar's pois a divisão de int por float é igual a float. "
      ]
    },
    {
      "cell_type": "code",
      "metadata": {
        "id": "D1PuBWxr_46n",
        "colab_type": "code",
        "outputId": "f08abbe7-3236-48bc-c996-36d4052c3bf4",
        "colab": {
          "base_uri": "https://localhost:8080/",
          "height": 51
        }
      },
      "source": [
        "x_treino = x_treino/250.0\n",
        "\n",
        "modelo.fit(x_treino, y_treino)"
      ],
      "execution_count": 0,
      "outputs": [
        {
          "output_type": "stream",
          "text": [
            "60000/60000 [==============================] - 5s 79us/sample - loss: 0.9730\n"
          ],
          "name": "stdout"
        },
        {
          "output_type": "execute_result",
          "data": {
            "text/plain": [
              "<tensorflow.python.keras.callbacks.History at 0x7f44a316e7f0>"
            ]
          },
          "metadata": {
            "tags": []
          },
          "execution_count": 13
        }
      ]
    },
    {
      "cell_type": "markdown",
      "metadata": {
        "id": "oyGpzcViBI5z",
        "colab_type": "text"
      },
      "source": [
        "Podemos perceber uma diminuição da perda. Vamos adicioanar mais camadas entre a 1 e a 2 para ver se temos um redução da perda."
      ]
    },
    {
      "cell_type": "code",
      "metadata": {
        "id": "k7vmI_whapVe",
        "colab_type": "code",
        "outputId": "5a4b2f7e-94a2-4716-bea1-eae18d4767e2",
        "colab": {
          "base_uri": "https://localhost:8080/",
          "height": 51
        }
      },
      "source": [
        "#Vou adicionar mais camadas com a mesma funcao de ativacao da camada 1, mas\n",
        "#como menos neuronios. Para ir afunilando.\n",
        "modelo_teste = keras.Sequential( [keras.layers.Flatten(input_shape = (28, 28) ),\n",
        "                            keras.layers.Dense(256, activation = tensorflow.nn.relu),\n",
        "                            keras.layers.Dense(128, activation = tensorflow.nn.relu),\n",
        "                            keras.layers.Dense(64, activation = tensorflow.nn.relu),\n",
        "                            keras.layers.Dense(10, activation = tensorflow.nn.softmax) ])\n",
        "\n",
        "#Vamos dar um compile e ver a perda\n",
        "modelo_teste.compile(optimizer = 'adam', loss = 'sparse_categorical_crossentropy')\n",
        "modelo_teste.fit(x_treino, y_treino)"
      ],
      "execution_count": 0,
      "outputs": [
        {
          "output_type": "stream",
          "text": [
            "60000/60000 [==============================] - 6s 94us/sample - loss: 0.4887\n"
          ],
          "name": "stdout"
        },
        {
          "output_type": "execute_result",
          "data": {
            "text/plain": [
              "<tensorflow.python.keras.callbacks.History at 0x7f449ff59828>"
            ]
          },
          "metadata": {
            "tags": []
          },
          "execution_count": 14
        }
      ]
    },
    {
      "cell_type": "markdown",
      "metadata": {
        "id": "RF3WEwyqc1hv",
        "colab_type": "text"
      },
      "source": [
        "Curiosamente tivemos uma redução da perda kk. Não estava esperando por isso :). "
      ]
    },
    {
      "cell_type": "markdown",
      "metadata": {
        "id": "aBK4RDYagshf",
        "colab_type": "text"
      },
      "source": [
        "Vamos ver a accuracy do modelo agora. Para isso, vamos passar mais um parâmetro quando usamos a função compile() que o parâmetro metrics, este recebe uma lista com as métricas que serão calculadas e exibidas. Vou passar só a accuracy."
      ]
    },
    {
      "cell_type": "code",
      "metadata": {
        "id": "o6qgJlLPhB0o",
        "colab_type": "code",
        "outputId": "a7f009bc-8668-4b07-f435-52d5b75ce84f",
        "colab": {
          "base_uri": "https://localhost:8080/",
          "height": 51
        }
      },
      "source": [
        "modelo_teste.compile(optimizer = 'adam', loss = 'sparse_categorical_crossentropy', metrics = ['accuracy'])\n",
        "modelo_teste.fit(x_treino, y_treino)"
      ],
      "execution_count": 0,
      "outputs": [
        {
          "output_type": "stream",
          "text": [
            "60000/60000 [==============================] - 6s 98us/sample - loss: 0.3697 - acc: 0.8643\n"
          ],
          "name": "stdout"
        },
        {
          "output_type": "execute_result",
          "data": {
            "text/plain": [
              "<tensorflow.python.keras.callbacks.History at 0x7f449fff8320>"
            ]
          },
          "metadata": {
            "tags": []
          },
          "execution_count": 15
        }
      ]
    },
    {
      "cell_type": "markdown",
      "metadata": {
        "id": "kaLg8Ds2haCG",
        "colab_type": "text"
      },
      "source": [
        "Agora vou os introduzir ao conceito de época. Perceba que treinamos uma vez que com todas as 60000 features de treino. Isso é uma epoch (época), um ciclo de treinamento. Mas como na vida, esperamos melhorar conforme treinamos mais. Vamos adicionar mais epócas passando como parâmetro o epochs e igualando a um inteiro, que será o número de épocas, na função fit()."
      ]
    },
    {
      "cell_type": "code",
      "metadata": {
        "id": "NrJ-CzcLhKlW",
        "colab_type": "code",
        "outputId": "82b11366-5a71-4d67-ccea-a226e1a727bb",
        "colab": {
          "base_uri": "https://localhost:8080/",
          "height": 204
        }
      },
      "source": [
        "modelo_teste.fit(x_treino, y_treino, epochs = 5)"
      ],
      "execution_count": 0,
      "outputs": [
        {
          "output_type": "stream",
          "text": [
            "Epoch 1/5\n",
            "60000/60000 [==============================] - 6s 97us/sample - loss: 0.3293 - acc: 0.8787\n",
            "Epoch 2/5\n",
            "60000/60000 [==============================] - 6s 95us/sample - loss: 0.3067 - acc: 0.8850\n",
            "Epoch 3/5\n",
            "60000/60000 [==============================] - 6s 96us/sample - loss: 0.2884 - acc: 0.8932\n",
            "Epoch 4/5\n",
            "60000/60000 [==============================] - 6s 95us/sample - loss: 0.2753 - acc: 0.8970\n",
            "Epoch 5/5\n",
            "60000/60000 [==============================] - 6s 95us/sample - loss: 0.2642 - acc: 0.9010\n"
          ],
          "name": "stdout"
        },
        {
          "output_type": "execute_result",
          "data": {
            "text/plain": [
              "<tensorflow.python.keras.callbacks.History at 0x7f44b8d85b00>"
            ]
          },
          "metadata": {
            "tags": []
          },
          "execution_count": 16
        }
      ]
    },
    {
      "cell_type": "markdown",
      "metadata": {
        "id": "e4ldZTDoidJy",
        "colab_type": "text"
      },
      "source": [
        "Perceba que a cada época a perda caiu e a acurácia ficou melhor. Mas acredito que não seja só colocar infinitas épocas que obteremos um modelo perfeito. Isso só deve funcionar até certo ponto. Mas isso é só o que minha intuição diz."
      ]
    },
    {
      "cell_type": "markdown",
      "metadata": {
        "id": "S8EEIbvNlvaO",
        "colab_type": "text"
      },
      "source": [
        "Vamos agora ver a acurácia  e perda do modelo como os dados de teste. Usando a função evaluate do modelo. Esta função recebe o x_teste e y_teste e retorna uma lista onde o primeiro elemento é a perda e o segundo elemento é a acurácia, "
      ]
    },
    {
      "cell_type": "code",
      "metadata": {
        "id": "BIE_gPuplu4_",
        "colab_type": "code",
        "outputId": "7410dcc3-2e22-4dce-e9a0-e097514fc28e",
        "colab": {
          "base_uri": "https://localhost:8080/",
          "height": 34
        }
      },
      "source": [
        "loss, accuracy = modelo_teste.evaluate(x_teste, y_teste)\n",
        "\n",
        "#Nem foi preciso printar as variaveis, as informacoes ja estao no output :)"
      ],
      "execution_count": 0,
      "outputs": [
        {
          "output_type": "stream",
          "text": [
            "10000/10000 [==============================] - 0s 46us/sample - loss: 55.2595 - acc: 0.8418\n"
          ],
          "name": "stdout"
        }
      ]
    },
    {
      "cell_type": "markdown",
      "metadata": {
        "id": "KQkpFQ3wmxHg",
        "colab_type": "text"
      },
      "source": [
        "Pode-se perceber que a perda está muito grande e acurácia não. Vamos separar um 20% das features para validação. A validação é um teste no modelo enquanto treinamos. \n",
        "\n",
        "Para fazer isso, basta passar mais um parâmetro a função fit(), validation_split. Este recebe um número entre 0 e 1 que representa a porcentagem para validação."
      ]
    },
    {
      "cell_type": "code",
      "metadata": {
        "id": "5qtHYkTsoBN3",
        "colab_type": "code",
        "outputId": "ba52ce94-26f0-43e7-e635-321a1e43f622",
        "colab": {
          "base_uri": "https://localhost:8080/",
          "height": 221
        }
      },
      "source": [
        "#Vou separar 20% do treino para vavlidacao\n",
        "modelo_teste.fit(x_treino, y_treino, epochs = 5, validation_split = 0.2)"
      ],
      "execution_count": 0,
      "outputs": [
        {
          "output_type": "stream",
          "text": [
            "Train on 48000 samples, validate on 12000 samples\n",
            "Epoch 1/5\n",
            "48000/48000 [==============================] - 5s 104us/sample - loss: 0.2470 - acc: 0.9073 - val_loss: 0.2478 - val_acc: 0.9046\n",
            "Epoch 2/5\n",
            "48000/48000 [==============================] - 5s 104us/sample - loss: 0.2389 - acc: 0.9092 - val_loss: 0.2610 - val_acc: 0.9035\n",
            "Epoch 3/5\n",
            "48000/48000 [==============================] - 5s 106us/sample - loss: 0.2292 - acc: 0.9129 - val_loss: 0.2557 - val_acc: 0.9063\n",
            "Epoch 4/5\n",
            "48000/48000 [==============================] - 5s 106us/sample - loss: 0.2186 - acc: 0.9162 - val_loss: 0.2680 - val_acc: 0.9014\n",
            "Epoch 5/5\n",
            "48000/48000 [==============================] - 5s 105us/sample - loss: 0.2139 - acc: 0.9185 - val_loss: 0.2615 - val_acc: 0.9056\n"
          ],
          "name": "stdout"
        },
        {
          "output_type": "execute_result",
          "data": {
            "text/plain": [
              "<tensorflow.python.keras.callbacks.History at 0x7f449fff84a8>"
            ]
          },
          "metadata": {
            "tags": []
          },
          "execution_count": 18
        }
      ]
    },
    {
      "cell_type": "markdown",
      "metadata": {
        "id": "YpR4l0q9oRlO",
        "colab_type": "text"
      },
      "source": [
        "Perceba no output a perda e a acurácia nos testes de validação.\n",
        "\n",
        "Agora, vamos salvar esses dados em uma variável. A função fit retorna um objeto keras.History. Que é um dicionário com as valores de perda, acurácia, perda na validação e acurácia na validação, seperados por época.\n",
        "\n",
        "docs:\n",
        "https://keras.io/visualization/"
      ]
    },
    {
      "cell_type": "code",
      "metadata": {
        "id": "jw_4u_zvsIWI",
        "colab_type": "code",
        "outputId": "5a70968c-58bb-4552-e841-8d6c9d124ebe",
        "colab": {
          "base_uri": "https://localhost:8080/",
          "height": 408
        }
      },
      "source": [
        "history = modelo_teste.fit(x_treino, y_treino, epochs = 5, validation_split = 0.2)\n",
        "history.history"
      ],
      "execution_count": 0,
      "outputs": [
        {
          "output_type": "stream",
          "text": [
            "Train on 48000 samples, validate on 12000 samples\n",
            "Epoch 1/5\n",
            "48000/48000 [==============================] - 5s 106us/sample - loss: 0.2067 - acc: 0.9211 - val_loss: 0.2618 - val_acc: 0.9062\n",
            "Epoch 2/5\n",
            "48000/48000 [==============================] - 5s 106us/sample - loss: 0.1989 - acc: 0.9234 - val_loss: 0.2763 - val_acc: 0.9046\n",
            "Epoch 3/5\n",
            "48000/48000 [==============================] - 5s 106us/sample - loss: 0.1880 - acc: 0.9277 - val_loss: 0.2926 - val_acc: 0.9027\n",
            "Epoch 4/5\n",
            "48000/48000 [==============================] - 5s 105us/sample - loss: 0.1865 - acc: 0.9274 - val_loss: 0.2681 - val_acc: 0.9040\n",
            "Epoch 5/5\n",
            "48000/48000 [==============================] - 5s 106us/sample - loss: 0.1781 - acc: 0.9319 - val_loss: 0.3044 - val_acc: 0.8959\n"
          ],
          "name": "stdout"
        },
        {
          "output_type": "execute_result",
          "data": {
            "text/plain": [
              "{'acc': [0.9211042, 0.9234375, 0.9276875, 0.9274375, 0.931875],\n",
              " 'loss': [0.20668391197919844,\n",
              "  0.19893777115394673,\n",
              "  0.18795336846945188,\n",
              "  0.1864903890180091,\n",
              "  0.17813351590496798],\n",
              " 'val_acc': [0.90625, 0.90458333, 0.9026667, 0.904, 0.89591664],\n",
              " 'val_loss': [0.26180354512731235,\n",
              "  0.2762881462375323,\n",
              "  0.2926269492705663,\n",
              "  0.26813312916954357,\n",
              "  0.3043813307185968]}"
            ]
          },
          "metadata": {
            "tags": []
          },
          "execution_count": 19
        }
      ]
    },
    {
      "cell_type": "markdown",
      "metadata": {
        "id": "QGrEILuAsoX5",
        "colab_type": "text"
      },
      "source": [
        "Vamos usar essas informações para plotar dois gráficos. Um que vai comparar a acúracia no treino e acurácia na validação e outro que vai comparar a perda no treino e a perda na validação."
      ]
    },
    {
      "cell_type": "code",
      "metadata": {
        "id": "svt5-f3XtDnt",
        "colab_type": "code",
        "outputId": "d28a5676-8b3d-44e5-d52f-c562a856f31b",
        "colab": {
          "base_uri": "https://localhost:8080/",
          "height": 313
        }
      },
      "source": [
        "#Plotando a linha de acuracia no treino, selecionando pelo dicionario.\n",
        "plt.plot(history.history['acc'])\n",
        "#Plotando a linha de acuracia na validacai, selecionando pelo dicionario.\n",
        "plt.plot(history.history['val_acc'])\n",
        "#Dando um titulo ao grafico\n",
        "plt.title(\"Acurácia por época\")\n",
        "#Nomeando o eixo x.\n",
        "plt.xlabel(\"época\")\n",
        "#Nomeando o eixo y.\n",
        "plt.ylabel(\"acurácia\")\n",
        "#Legendando as linhas, dizendo que a primeira linha plotada e a de treino\n",
        "#e a segunda a de validacao.\n",
        "plt.legend(['treino', 'validacao'])\n"
      ],
      "execution_count": 0,
      "outputs": [
        {
          "output_type": "execute_result",
          "data": {
            "text/plain": [
              "<matplotlib.legend.Legend at 0x7f449a22b6d8>"
            ]
          },
          "metadata": {
            "tags": []
          },
          "execution_count": 20
        },
        {
          "output_type": "display_data",
          "data": {
            "image/png": "[encoded data removed]",
            "text/plain": [
              "<Figure size 432x288 with 1 Axes>"
            ]
          },
          "metadata": {
            "tags": []
          }
        }
      ]
    },
    {
      "cell_type": "code",
      "metadata": {
        "id": "-LSdDtsxuCaO",
        "colab_type": "code",
        "outputId": "49d4e0c3-de8e-4c52-cbe9-231fa25b701f",
        "colab": {
          "base_uri": "https://localhost:8080/",
          "height": 313
        }
      },
      "source": [
        "#Plotando a linha de perda no treino, selecionando pelo dicionario.\n",
        "plt.plot(history.history['loss'])\n",
        "#Plotando a linha de perda na validacao, selecionando pelo dicionario.\n",
        "plt.plot(history.history['val_loss'])\n",
        "#Dando um titulo ao grafico\n",
        "plt.title(\"Perda por época\")\n",
        "#Nomeando o eixo x.\n",
        "plt.xlabel(\"época\")\n",
        "#Nomeando o eixo y.\n",
        "plt.ylabel(\"perda\")\n",
        "#Legendando as linhas, dizendo que a primeira linha plotada e a de treino\n",
        "#e a segunda a de validacao.\n",
        "plt.legend(['treino', 'validacao'])"
      ],
      "execution_count": 0,
      "outputs": [
        {
          "output_type": "execute_result",
          "data": {
            "text/plain": [
              "<matplotlib.legend.Legend at 0x7f449a193e10>"
            ]
          },
          "metadata": {
            "tags": []
          },
          "execution_count": 21
        },
        {
          "output_type": "display_data",
          "data": {
            "image/png": "[encoded data removed]",
            "text/plain": [
              "<Figure size 432x288 with 1 Axes>"
            ]
          },
          "metadata": {
            "tags": []
          }
        }
      ]
    },
    {
      "cell_type": "markdown",
      "metadata": {
        "id": "4ssNsGMzvVAz",
        "colab_type": "text"
      },
      "source": [
        "#Dropout       \n",
        "        \n",
        "        \n",
        "        Podemos perceber que a acurácia de treino está muito maior que a acurácia de validação e que a perde no treino está muito menor do que a perda na validação. \n",
        "\n",
        "        Isso indica que nosso modelo está tendo um overfitting, ou seja, ele está se ajustando tão bem aos dados de treino que não está conseguindo generalizar. Logo, está apenas memorizando os dados.\n",
        "        \n",
        "        Para resolver isso, usaremos mais uma técnica de validação chamada Dropout. Que consiste em adormecer uma parte dos neurônios de cada camada, menos a primeira e a última, a cada época. Geralmente o recomendado é 20%. Então usamos o keras.layers.Dropout depois de cada camada, passado como parâmetro 0.2 que significa 20%."
      ]
    },
    {
      "cell_type": "code",
      "metadata": {
        "id": "yoDXOtg_xZRK",
        "colab_type": "code",
        "outputId": "98dd2212-ac89-41b5-f01f-537666041a06",
        "colab": {
          "base_uri": "https://localhost:8080/",
          "height": 204
        }
      },
      "source": [
        "modelo_drop = keras.Sequential( [keras.layers.Flatten(input_shape = (28, 28) ),\n",
        "                            keras.layers.Dense(256, activation = tensorflow.nn.relu),\n",
        "                            keras.layers.Dropout(0.2),\n",
        "                            keras.layers.Dense(128, activation = tensorflow.nn.relu),\n",
        "                            keras.layers.Dropout(0.2),\n",
        "                            keras.layers.Dense(64, activation = tensorflow.nn.relu),\n",
        "                            keras.layers.Dropout(0.2),\n",
        "                            keras.layers.Dense(10, activation = tensorflow.nn.softmax) ])\n",
        "\n",
        "modelo_drop.compile(optimizer = 'adam', loss = 'sparse_categorical_crossentropy', metrics = ['accuracy'])\n",
        "history = modelo_drop.fit(x_treino, y_treino, validation_split = 0.2, epochs = 5)\n"
      ],
      "execution_count": 0,
      "outputs": [
        {
          "output_type": "stream",
          "text": [
            "Train on 48000 samples, validate on 12000 samples\n",
            "Epoch 1/5\n",
            "48000/48000 [==============================] - 6s 125us/sample - loss: 0.6223 - acc: 0.7758 - val_loss: 0.4409 - val_acc: 0.8356\n",
            "Epoch 2/5\n",
            "48000/48000 [==============================] - 6s 120us/sample - loss: 0.4444 - acc: 0.8398 - val_loss: 0.3924 - val_acc: 0.8564\n",
            "Epoch 3/5\n",
            "48000/48000 [==============================] - 6s 121us/sample - loss: 0.4057 - acc: 0.8557 - val_loss: 0.3926 - val_acc: 0.8558\n",
            "Epoch 4/5\n",
            "48000/48000 [==============================] - 6s 122us/sample - loss: 0.3830 - acc: 0.8620 - val_loss: 0.3648 - val_acc: 0.8677\n",
            "Epoch 5/5\n",
            "48000/48000 [==============================] - 6s 122us/sample - loss: 0.3648 - acc: 0.8691 - val_loss: 0.3627 - val_acc: 0.8731\n"
          ],
          "name": "stdout"
        }
      ]
    },
    {
      "cell_type": "code",
      "metadata": {
        "id": "rOInJ_HPy45Z",
        "colab_type": "code",
        "outputId": "b3aaaa61-4c4b-4766-a79a-5196ee570745",
        "colab": {
          "base_uri": "https://localhost:8080/",
          "height": 221
        }
      },
      "source": [
        "history.history"
      ],
      "execution_count": 0,
      "outputs": [
        {
          "output_type": "execute_result",
          "data": {
            "text/plain": [
              "{'acc': [0.77577084, 0.8398333, 0.85566664, 0.8619792, 0.8691458],\n",
              " 'loss': [0.6222527915040652,\n",
              "  0.4444042975554864,\n",
              "  0.40569447981814544,\n",
              "  0.3829555799762408,\n",
              "  0.36475331437091035],\n",
              " 'val_acc': [0.8355833, 0.85641664, 0.85575, 0.86766666, 0.87308335],\n",
              " 'val_loss': [0.44094677170117696,\n",
              "  0.39244581405321755,\n",
              "  0.3926444014310837,\n",
              "  0.3648178669412931,\n",
              "  0.3627436276872953]}"
            ]
          },
          "metadata": {
            "tags": []
          },
          "execution_count": 23
        }
      ]
    },
    {
      "cell_type": "code",
      "metadata": {
        "id": "cft_ltOzykP9",
        "colab_type": "code",
        "outputId": "6a45e575-f51a-4c89-d7ca-c21bb686e5cb",
        "colab": {
          "base_uri": "https://localhost:8080/",
          "height": 313
        }
      },
      "source": [
        "#Plotando a linha de acuracia no treino, selecionando pelo dicionario.\n",
        "plt.plot(history.history['acc'])\n",
        "#Plotando a linha de acuracia na validacao, selecionando pelo dicionario.\n",
        "plt.plot(history.history['val_acc'])\n",
        "#Dando um titulo ao grafico\n",
        "plt.title(\"Acurácia por época\")\n",
        "#Nomeando o eixo x.\n",
        "plt.xlabel(\"época\")\n",
        "#Nomeando o eixo y.\n",
        "plt.ylabel(\"acurácia\")\n",
        "#Legendando as linhas, dizendo que a primeira linha plotada e a de treino\n",
        "#e a segunda a de validacao.\n",
        "plt.legend(['treino', 'validacao'])"
      ],
      "execution_count": 0,
      "outputs": [
        {
          "output_type": "execute_result",
          "data": {
            "text/plain": [
              "<matplotlib.legend.Legend at 0x7f4499bebf28>"
            ]
          },
          "metadata": {
            "tags": []
          },
          "execution_count": 24
        },
        {
          "output_type": "display_data",
          "data": {
            "image/png": "[encoded data removed]",
            "text/plain": [
              "<Figure size 432x288 with 1 Axes>"
            ]
          },
          "metadata": {
            "tags": []
          }
        }
      ]
    },
    {
      "cell_type": "code",
      "metadata": {
        "id": "5TlXZfspyoAm",
        "colab_type": "code",
        "outputId": "a644cb20-0091-4d09-95db-dcd281295770",
        "colab": {
          "base_uri": "https://localhost:8080/",
          "height": 313
        }
      },
      "source": [
        "#Plotando a linha de perda no treino, selecionando pelo dicionario.\n",
        "plt.plot(history.history['loss'])\n",
        "#Plotando a linha de perda na validacao, selecionando pelo dicionario.\n",
        "plt.plot(history.history['val_loss'])\n",
        "#Dando um titulo ao grafico\n",
        "plt.title(\"Perda por época\")\n",
        "#Nomeando o eixo x.\n",
        "plt.xlabel(\"época\")\n",
        "#Nomeando o eixo y.\n",
        "plt.ylabel(\"perda\")\n",
        "#Legendando as linhas, dizendo que a primeira linha plotada e a de treino\n",
        "#e a segunda a de validacao.\n",
        "plt.legend(['treino', 'validacao'])"
      ],
      "execution_count": 0,
      "outputs": [
        {
          "output_type": "execute_result",
          "data": {
            "text/plain": [
              "<matplotlib.legend.Legend at 0x7f4499b66a58>"
            ]
          },
          "metadata": {
            "tags": []
          },
          "execution_count": 25
        },
        {
          "output_type": "display_data",
          "data": {
            "image/png": "[encoded data removed]",
            "text/plain": [
              "<Figure size 432x288 with 1 Axes>"
            ]
          },
          "metadata": {
            "tags": []
          }
        }
      ]
    },
    {
      "cell_type": "markdown",
      "metadata": {
        "id": "dmX3U6tFzjoq",
        "colab_type": "text"
      },
      "source": [
        "Podemos ver que agora o comportamento das linhas de treino e de validação estão bem parecidos, isso quer dizer que não está acontecendo mais o overfitting."
      ]
    },
    {
      "cell_type": "markdown",
      "metadata": {
        "id": "0S0io0xN2Bir",
        "colab_type": "text"
      },
      "source": [
        "#Salvando o modelo\n",
        "\n",
        "Para salvar o modelo, usamos a função do save do keras e para carregarmos um modelo usamos a função load_model. A função save recebe como parâmetro o nome do arquivo e a extensão h5 que é de HDF5.\n",
        "\n",
        "Para usar o load_model, você tem que importar essa função de tensorflow.keras.models"
      ]
    },
    {
      "cell_type": "code",
      "metadata": {
        "id": "w9ky8oz92bqo",
        "colab_type": "code",
        "colab": {}
      },
      "source": [
        "modelo_drop.save('intro_deeplearning_modelo.h5')"
      ],
      "execution_count": 0,
      "outputs": []
    },
    {
      "cell_type": "markdown",
      "metadata": {
        "id": "NNDZyjXeKrjB",
        "colab_type": "text"
      },
      "source": [
        "#Sumário, examinado o modelo\n",
        "\n",
        "        Por enquanto, o que modo como nosso modelo funciona está obscuro para nós. Mas vamos começar a elucidadar isso. O que acontece são dos movimentos: O fowardpropagation e o backpropagation. \n",
        "\n",
        "        O que entra na nossa camada 0, Flatten, são valores númericos. Em cada camada, esses valores vão sofrendo transformações pelas funções reLu até chegar ná última camada, passar pela função softmax e serem transforamdos nas probabilidades para ser feita a classificação. Esse processo é chamado de fowardpropagation, onde os valores vão sendo passados para frente.\n",
        "        \n",
        "        Após o fowardpropagation, temos o backpropagation onde, de trás pra frente e de acordo com o resultado da classificação, certo ou errada, os pesos de cada neurônio vão sendo modificados.\n",
        "        \n",
        "        "
      ]
    },
    {
      "cell_type": "markdown",
      "metadata": {
        "id": "shpS-fj0QoOa",
        "colab_type": "text"
      },
      "source": [
        "#Backpropagation\n",
        "\n",
        "        Esse conceito explodiu tanto o meu cérebro que separei um célula só pra ele. Vou dividir esta célula em conceito e matemática.\n",
        "        \n",
        "        \n",
        " \n",
        "\n",
        "1.  Conceito\n",
        "\n",
        "         O conceito do backpropagation funcionada da seguinta forma. Vamos supor que tenhamos uma rede neural de 4 camadas, sendo uma a de entrada, duas a de processamento ou camadas ocultas e uma de sáida. Vamos supor támbem que esta rede está fazendo uma classificação de imagens de números manuscritos, o mnist por exemlp. Então teremos 10 neurônios na camada de sáida, um para cada número.\n",
        "         \n",
        "         Vamos supor que entramos com a imagem de um 2, foram feitas todas as transformações dos valores de cada pixel da imagem até chegarmos nas probabilidades na última camada e que o neurônio que teve o maior valor de probabilidade foi o neurônio no qual a resposta é 2. Logo, foi feita uma classificação correta.\n",
        "         \n",
        "         Agora, vamos focar apenas na última e penúltima camada e apenas nesse caso de entrada. Queremos aumentar o peso do neurônio 2 e diminuir os pesos dos outros neurônios, na última camada. Para assim reforçar essa resposta certa. Lembrando que cada neurônio na penúltima camada está conectado ao neurônio 2 da última camada, para aumentar o peso do neurônio 2, cujo o valor de sáida depende dos neurônios da penúltima camada, temos que mexer nos pesos da penúltima camada. O mesmo vale para diminuir o peso dos outros neurônios.\n",
        "          \n",
        "          Então, vamos para a penúltima camada e usar a mesma ideia: Aumentar o peso dos neurônios que deram uma resposta certa, nesse caso de reLU, um número positivo e diminuir o peso dos neurônios que deram uma resposta errada, nesse caso, um 0. A mudança nos pesos dos neurônios, seja aumentando o peso ou diminuindo, é proporcional ao peso do neurônio. E fazemos isso recursivamente, indo para trás na rede.\n",
        "          \n",
        "         Mas fizemos isso apenas para uma entrada, a entrada da imagem 2. Se fizemos apenas isso, teríamos uma rede que classificaria tudo como 2. Temos que fazer esse mesmo processo para cada entrada. No fim, cada entrada irá querer fazer uma mudança diferente em cada neurônio. Então tiramos a média de cada modifição desejada por cada entrada em cada neurônio. Essas respectivas médias serão a alteração no peso de cada respectivo neurônio.\n",
        "          \n",
        "          Contudo, se fizemos o backpropagation para cada entrada e só no fim tirássemos a média e descobrissimos qual seriam os ajustes nos pesos de cada neurônio. O processo seria computacionalmente lento demais. Então o que é feito é separar as entradas em lotes(batch's) e aplicar o backpropation, tirar as médias e ajustar os pesos para cada lote(batch). Assim, mesmo que não tenhamos o melhor ajuste póssivel, ainda temos um ajusto suficientemente bom dos pesos e em tempo víavel.\n",
        "          \n",
        "          Obs: O tamanho do batch pode ser passado por parâmtro na função fit (batch_size), podendo assim, dependendo do tamanho escolhido, até acelerar o treinamento.\n",
        "         \n",
        "          Lembrando lá de machine learning, que além de pesos, todo neurônio vai ter um víes. Quando o neurônio erra, o víes é aumentado e quando acerta, é diminiuido.\n",
        "          \n",
        "fonte:\n",
        "https://www.youtube.com/watch?v=Ilg3gGewQ5U\n",
        "\n",
        "2.   Matemática por trás\n",
        "\n",
        "          A matemática para calcular os ajustes que cada entrada irá querer envolve derivadas parcias e com isso criamos o gradiente descedente para acharmos um ponto de mínimo de perda, não entendi muito bem para conseguir explicar aqui, mas tem esse vídeo explicando, assista com calma. Preciso anotar de assistir com calma, entender e explicar aqui.\n",
        "          \n",
        "          Obs: A \"velocidade\" com que \"caminhamos\" para um ponto de mínimo de perda é parametrizável (lr, learning rate) no optimizer. Nem sempre quanto mais velocidade é melhor, pois pode acabar nunca chegando a um ponto de mínimo local na função de perda e caindo em um ponto onde a perda de informação é alta.\n",
        "          \n",
        "https://www.youtube.com/watch?v=tIeHLnjs5U8\n",
        "\n"
      ]
    },
    {
      "cell_type": "markdown",
      "metadata": {
        "id": "NTuipFL3n4IP",
        "colab_type": "text"
      },
      "source": [
        "Bom, finalmente vamos ver o sumário do modelo, usando a função sumary() do próprio modelo. Nele veremos muitas informações relevantes."
      ]
    },
    {
      "cell_type": "code",
      "metadata": {
        "id": "z2lfungrn1bX",
        "colab_type": "code",
        "outputId": "92a5e253-f8a6-4088-a2b6-66ce4218ad14",
        "colab": {
          "base_uri": "https://localhost:8080/",
          "height": 425
        }
      },
      "source": [
        "modelo_drop.summary()"
      ],
      "execution_count": 0,
      "outputs": [
        {
          "output_type": "stream",
          "text": [
            "Model: \"sequential_2\"\n",
            "_________________________________________________________________\n",
            "Layer (type)                 Output Shape              Param #   \n",
            "=================================================================\n",
            "flatten_2 (Flatten)          (None, 784)               0         \n",
            "_________________________________________________________________\n",
            "dense_6 (Dense)              (None, 256)               200960    \n",
            "_________________________________________________________________\n",
            "dropout (Dropout)            (None, 256)               0         \n",
            "_________________________________________________________________\n",
            "dense_7 (Dense)              (None, 128)               32896     \n",
            "_________________________________________________________________\n",
            "dropout_1 (Dropout)          (None, 128)               0         \n",
            "_________________________________________________________________\n",
            "dense_8 (Dense)              (None, 64)                8256      \n",
            "_________________________________________________________________\n",
            "dropout_2 (Dropout)          (None, 64)                0         \n",
            "_________________________________________________________________\n",
            "dense_9 (Dense)              (None, 10)                650       \n",
            "=================================================================\n",
            "Total params: 242,762\n",
            "Trainable params: 242,762\n",
            "Non-trainable params: 0\n",
            "_________________________________________________________________\n"
          ],
          "name": "stdout"
        }
      ]
    },
    {
      "cell_type": "markdown",
      "metadata": {
        "id": "Hnn_FVyTpIvU",
        "colab_type": "text"
      },
      "source": [
        "        Podemos ver que a na primeira colunas temos os tipos das camadas dos nossos modelos. No segunda coluna, temos uns números que representam quanos neurônios temos na camada. Talvez esteja se perguntando o porquê da camada flatten_2, vulgo 0 , ter 784 neurônios. Lembre do que escrevemos para criar essa camada: \"keras.layers.Flatten(input_shape = (28, 28)\", veja que o input_shape é igual a 28 por 28, 28 vezes 28 é igual a 784. \n",
        "        \n",
        "        Agora veja a última coluna, a coluna de parâmetros, param. Podemos dizer que tem 0 para a camada flatten_2 pois nela as entradas só são tranformadas de matrizes para linhas. Mas agora olhe para a camada dense_6, ela tem 200960 parâmetros. Temos uma entrada de 784 valores e cada um dos 256 neurônios receberam 784 valores, 784 vezes 256 é igual a 200704. Mas ainda falta para 200960. Note que 200960 menos 200704 é igual a 256, que exatamente o número de neurônios da camada. Então, esses outros 256 valores são os pesos, citados no texto sobre backpropagation, que cada neurônio tem. \n",
        "        \n",
        "        Lembrando de novo, que além de pesos, todo neurônio vai ter um víes.\n",
        "        \n",
        "        "
      ]
    },
    {
      "cell_type": "markdown",
      "metadata": {
        "id": "Uit68NC854ek",
        "colab_type": "text"
      },
      "source": [
        "        Beleza, mas como esses pesos são decididos inicialmente. Começam todos com 0? Valores aleatórios? Vamos fazer alguns experimentos. \n",
        "        \n",
        "        Para facilitar, vou usar o nosso primeirp medelo que contém apenas 3 camadas.\n"
      ]
    },
    {
      "cell_type": "markdown",
      "metadata": {
        "id": "SSYuK1Lj-k-L",
        "colab_type": "text"
      },
      "source": [
        "#Como os pesos e vieses são iniciados"
      ]
    },
    {
      "cell_type": "markdown",
      "metadata": {
        "id": "KPqpzoTs6dEP",
        "colab_type": "text"
      },
      "source": [
        "Vamos usar a função zero do numpy para criar um array de zeros e setar como os pesos da nossa camada 1.  Para criarmos esse array, temos que saber qual é o formato de array de pesos. Por isso, vamos usar a função get_weights do keras que vai nos devolver uma lista com dois arrays, o primeiro sendo os de pesos e o segundo o de vieses."
      ]
    },
    {
      "cell_type": "code",
      "metadata": {
        "id": "99Cc479l54Hz",
        "colab_type": "code",
        "outputId": "c2665731-7013-4c37-f22b-2c1783b416e8",
        "colab": {
          "base_uri": "https://localhost:8080/",
          "height": 1000
        }
      },
      "source": [
        "#Vamos dar um olhada nesses pesos e nesses vieses\n",
        "\n",
        "#Pegando os pesos da camada 1 do modelo.\n",
        "pesos_camada_dense = modelo.layers[1].get_weights()[0]\n",
        "\n",
        "#Pegando os vieses\n",
        "vieses_camada_dense = modelo.layers[1].get_weights()[1]\n",
        "\n",
        "print(\"Pesos\")\n",
        "print(pesos_camada_dense)\n",
        "print(\"Vieses\")\n",
        "print(vieses_camada_dense)\n"
      ],
      "execution_count": 0,
      "outputs": [
        {
          "output_type": "stream",
          "text": [
            "Pesos\n",
            "[[-0.04266476  0.05269681  0.03370099 ... -0.02804128 -0.01043916\n",
            "   0.0192976 ]\n",
            " [-0.02390505  0.07616955  0.03293506 ... -0.04198422 -0.03646073\n",
            "  -0.06522209]\n",
            " [-0.01974543 -0.0060572  -0.00332699 ... -0.07092287  0.01705177\n",
            "  -0.0842156 ]\n",
            " ...\n",
            " [ 0.04608349 -0.03544332  0.0406919  ...  0.05011312 -0.04772728\n",
            "  -0.03766431]\n",
            " [ 0.04380728 -0.05052399 -0.00746211 ...  0.07067342  0.06443384\n",
            "   0.04517613]\n",
            " [ 0.09579735  0.03862194 -0.04784159 ... -0.05982447  0.01654675\n",
            "  -0.01813661]]\n",
            "Vieses\n",
            "[ 1.00875914e+00  4.26920503e-02 -3.04434132e-02  1.27487981e+00\n",
            " -5.84575301e-03 -3.45646366e-02  9.62476313e-01  4.37981665e-01\n",
            "  6.71550632e-01  1.72472727e-02  8.69565189e-01 -2.59968080e-02\n",
            " -1.76471733e-02  7.48584330e-01  5.51734447e-01  2.39663750e-01\n",
            " -1.46181518e-02  6.03963375e-01  7.93086410e-01  3.02648574e-01\n",
            "  1.15981795e-01  6.44624889e-01 -2.50446908e-02  5.87572157e-01\n",
            "  1.07396245e+00  3.41501459e-03 -1.85897667e-02  6.63685858e-01\n",
            " -2.41148099e-02 -3.16229835e-02  3.19230966e-02  7.40138948e-01\n",
            "  2.29982987e-01  7.70775527e-02 -2.33399477e-02  3.44808809e-02\n",
            " -2.34736037e-02  2.85681933e-01 -2.51977183e-02  2.19246835e-01\n",
            "  3.63899976e-01  1.22874594e+00  7.36889780e-01  2.26537585e-01\n",
            "  2.60841586e-02  7.83727646e-01  1.15232575e+00 -2.19353940e-02\n",
            "  9.14472222e-01 -2.48876512e-02  9.73789811e-01  1.20397615e+00\n",
            "  8.66231680e-01  7.83837974e-01  4.48292822e-01  1.36891911e-02\n",
            "  5.90621293e-01  7.42094934e-01 -5.34973340e-03  1.06287706e+00\n",
            "  5.59076369e-01 -1.53361252e-02  7.87833393e-01  5.42818546e-01\n",
            " -3.09774168e-02  4.38983180e-02  4.05684590e-01  5.96101284e-01\n",
            " -1.68132409e-02  7.55354166e-02  8.89252219e-03  2.64316108e-02\n",
            " -3.25046815e-02 -1.80939827e-02  5.13500581e-03  1.85149625e-01\n",
            "  7.22747967e-02  7.11724767e-03 -3.73518430e-02 -3.52519080e-02\n",
            " -2.55691651e-02 -1.58089790e-02 -2.24313661e-02  8.92107725e-01\n",
            "  6.72950089e-01  6.98110580e-01  8.17906976e-01  7.39008188e-01\n",
            " -3.63945700e-02  8.50184113e-02 -2.64432048e-03  5.18087558e-02\n",
            " -1.30254384e-02  1.32111222e-01  9.04679179e-01  4.28476669e-02\n",
            " -1.10545382e-02  5.33931434e-01  2.77220875e-01 -1.67459194e-02\n",
            " -5.97860990e-03  1.68727815e-01  1.08039610e-01  8.35464239e-01\n",
            "  8.36880565e-01  8.09082270e-01  3.74295712e-01 -1.56957544e-02\n",
            "  5.37018836e-01  2.42440537e-01  5.86258098e-02  6.66650116e-01\n",
            "  8.28591585e-01 -2.35193931e-02  3.12832668e-02  8.16167831e-01\n",
            " -4.22370322e-02  2.09050230e-03  2.05209875e-03 -1.94874946e-02\n",
            "  5.54244578e-01  5.51308990e-01  8.07985663e-01  3.17340903e-02\n",
            " -6.44096434e-02 -8.48122872e-05 -1.92635208e-02  8.63742709e-01\n",
            " -1.14194471e-02 -1.11958785e-02  1.09424818e+00 -1.94389764e-02\n",
            "  7.98178911e-01  1.27688907e-02  2.50786692e-02 -9.17176437e-03\n",
            "  4.98966366e-01  1.42437005e-02 -7.12282816e-03  5.07818878e-01\n",
            " -1.81660522e-02  1.34024844e-01  2.73386333e-02  1.05306828e+00\n",
            " -1.91141386e-02  9.63513833e-03  8.15611482e-01  5.34492433e-01\n",
            "  6.05725637e-03 -1.81039330e-02  5.85316479e-01  2.94735525e-02\n",
            " -1.21668484e-02  1.20113650e-02 -2.63528638e-02 -1.01828640e-02\n",
            "  8.33997354e-02  5.23260795e-02 -1.18046592e-03  7.85610173e-03\n",
            " -1.07288063e-02 -4.17681411e-02 -1.73618812e-02  2.75643282e-02\n",
            "  9.98853326e-01 -1.05665158e-02  3.49301249e-01 -9.38245840e-03\n",
            " -4.93193092e-03  1.34754598e-01  8.81764591e-02  7.65577555e-01\n",
            " -1.47547992e-02  8.45081925e-01  8.77891123e-01  4.21958975e-03\n",
            "  9.18864906e-01  1.39875561e-01  9.47783828e-01  1.00307143e+00\n",
            " -4.82036732e-03  3.29085141e-01 -1.71611961e-02 -1.57648325e-02\n",
            "  6.85743451e-01  1.06599963e+00 -1.58865135e-02  9.26498115e-01\n",
            "  1.01168983e-01 -1.58845913e-02  6.98503613e-01 -1.76076666e-02\n",
            "  7.83715904e-01  2.67836684e-03  2.92900085e-01  1.91737004e-02\n",
            " -1.93268713e-02  5.42844273e-02 -1.07161403e-02  7.78481305e-01\n",
            "  2.12945021e-03 -2.87989210e-02  3.23010415e-01  9.56073701e-01\n",
            " -2.18178798e-02 -1.88974328e-02  5.51501155e-01  1.14098871e-02\n",
            " -3.59987393e-02  6.53779060e-02 -2.02844720e-04  3.38538349e-01\n",
            "  6.92169070e-01 -2.22806539e-02 -2.59336364e-02 -9.01668426e-03\n",
            "  8.85882616e-01  2.12354451e-01  1.04831302e+00 -1.16194300e-02\n",
            " -2.38755271e-02 -7.31648281e-02  2.31298544e-02  4.92401682e-02\n",
            " -1.52378399e-02 -2.89829429e-02  2.28222683e-01  1.06395995e-02\n",
            "  8.97236109e-01  1.12123513e+00  5.30144796e-02 -1.71165522e-02\n",
            "  1.07064471e-01  5.80312014e-01  6.70518205e-02 -1.71860289e-02\n",
            " -2.22746376e-02  9.52332616e-01  4.76089260e-03 -1.88326016e-02\n",
            " -1.26657765e-02  5.15693799e-02  5.11478260e-02 -5.97222766e-04\n",
            "  6.47358477e-01 -1.86867137e-02  2.77537759e-02  1.54438033e-03\n",
            "  1.70961544e-02  6.77990243e-02  3.47315706e-02  5.18045723e-01\n",
            " -5.61873661e-03  7.05069536e-03  1.04251087e+00  4.78575766e-01]\n"
          ],
          "name": "stdout"
        }
      ]
    },
    {
      "cell_type": "markdown",
      "metadata": {
        "id": "eu9NIS5e7xTP",
        "colab_type": "text"
      },
      "source": [
        "Não vamos mexer nos vieses, então vamos ver apenas o shape do array de pesos."
      ]
    },
    {
      "cell_type": "code",
      "metadata": {
        "id": "SU6jio2x8JR4",
        "colab_type": "code",
        "outputId": "972d46a4-4c1e-4cec-995f-3583386b6aca",
        "colab": {
          "base_uri": "https://localhost:8080/",
          "height": 34
        }
      },
      "source": [
        "pesos_camada_dense.shape"
      ],
      "execution_count": 0,
      "outputs": [
        {
          "output_type": "execute_result",
          "data": {
            "text/plain": [
              "(784, 256)"
            ]
          },
          "metadata": {
            "tags": []
          },
          "execution_count": 29
        }
      ]
    },
    {
      "cell_type": "markdown",
      "metadata": {
        "id": "exjHQY5F8OPt",
        "colab_type": "text"
      },
      "source": [
        "Vamos usar a função zeros() do numpy para criar um array de zeros no mesmo formato. Depois vemos usar a função set_weights para setar os novos pesos e setar os mesmos vieses."
      ]
    },
    {
      "cell_type": "code",
      "metadata": {
        "id": "BnkhuhIQ8bog",
        "colab_type": "code",
        "colab": {}
      },
      "source": [
        "import numpy as np\n",
        "\n",
        "#Criando o array de zeros\n",
        "pesos_camada_dense_zerados = np.zeros( (784,256))\n",
        "\n",
        "#Setando os pesos e os vieses\n",
        "\n",
        "modelo.layers[1].set_weights(\n",
        "    [pesos_camada_dense_zerados, vieses_camada_dense]\n",
        ")"
      ],
      "execution_count": 0,
      "outputs": []
    },
    {
      "cell_type": "markdown",
      "metadata": {
        "id": "seHC4CZV9Nfx",
        "colab_type": "text"
      },
      "source": [
        "Vamos recompilar o modelo, fazer o fit e ver os gráficos."
      ]
    },
    {
      "cell_type": "code",
      "metadata": {
        "id": "fSfS7sIu9NMh",
        "colab_type": "code",
        "outputId": "c82999fe-d21a-4fe2-cee6-ab3b216fbb4f",
        "colab": {
          "base_uri": "https://localhost:8080/",
          "height": 500
        }
      },
      "source": [
        "#Compilando o modelo e fazendo o fit\n",
        "modelo.compile(optimizer='adam', \n",
        "               loss='sparse_categorical_crossentropy',\n",
        "               metrics=['accuracy'])\n",
        "\n",
        "historico = modelo.fit(x_treino, y_treino, epochs=5, validation_split=0.2)\n",
        "\n",
        "#Plotando o grafico de acuracia por epoca\n",
        "\n",
        "plt.plot(historico.history['acc'])\n",
        "plt.plot(historico.history['val_acc'])\n",
        "plt.title('Acurácia por épocas')\n",
        "plt.xlabel('épocas')\n",
        "plt.ylabel('acurácia')\n",
        "plt.legend(['treino', 'validação'])"
      ],
      "execution_count": 0,
      "outputs": [
        {
          "output_type": "stream",
          "text": [
            "Train on 48000 samples, validate on 12000 samples\n",
            "Epoch 1/5\n",
            "48000/48000 [==============================] - 4s 94us/sample - loss: 0.5197 - acc: 0.8150 - val_loss: 0.4272 - val_acc: 0.8437\n",
            "Epoch 2/5\n",
            "48000/48000 [==============================] - 4s 91us/sample - loss: 0.3896 - acc: 0.8567 - val_loss: 0.3765 - val_acc: 0.8646\n",
            "Epoch 3/5\n",
            "48000/48000 [==============================] - 4s 90us/sample - loss: 0.3474 - acc: 0.8713 - val_loss: 0.3499 - val_acc: 0.8748\n",
            "Epoch 4/5\n",
            "48000/48000 [==============================] - 4s 91us/sample - loss: 0.3179 - acc: 0.8827 - val_loss: 0.3251 - val_acc: 0.8828\n",
            "Epoch 5/5\n",
            "48000/48000 [==============================] - 4s 90us/sample - loss: 0.2984 - acc: 0.8889 - val_loss: 0.3310 - val_acc: 0.8817\n"
          ],
          "name": "stdout"
        },
        {
          "output_type": "execute_result",
          "data": {
            "text/plain": [
              "<matplotlib.legend.Legend at 0x7f4499c05a58>"
            ]
          },
          "metadata": {
            "tags": []
          },
          "execution_count": 31
        },
        {
          "output_type": "display_data",
          "data": {
            "image/png": "[encoded data removed]",
            "text/plain": [
              "<Figure size 432x288 with 1 Axes>"
            ]
          },
          "metadata": {
            "tags": []
          }
        }
      ]
    },
    {
      "cell_type": "markdown",
      "metadata": {
        "id": "vO4fh69p9_r9",
        "colab_type": "text"
      },
      "source": [
        "Opa, vemos que aconteceu algo parecido com o overfitting, onde acurácia de treino está melhor que a de validação.\n",
        "\n",
        "Vamos tentar usando valores aleatórios. Usando a funçaõ rand do módulo random do numpy."
      ]
    },
    {
      "cell_type": "code",
      "metadata": {
        "id": "rs4ga1zA-rW4",
        "colab_type": "code",
        "outputId": "577e1fd7-e770-4239-954a-31c5867d8898",
        "colab": {
          "base_uri": "https://localhost:8080/",
          "height": 204
        }
      },
      "source": [
        "#Criando o array de zeros\n",
        "pesos_camada_dense_aleatorios = np.random.rand( 784,256)\n",
        "\n",
        "#Setando os pesos e os vieses\n",
        "\n",
        "modelo.layers[1].set_weights(\n",
        "    [pesos_camada_dense_aleatorios, vieses_camada_dense]\n",
        ")\n",
        "\n",
        "#Compilando o modelo e fazendo o fit\n",
        "modelo.compile(optimizer='adam', \n",
        "               loss='sparse_categorical_crossentropy',\n",
        "               metrics=['accuracy'])\n",
        "\n",
        "historico = modelo.fit(x_treino, y_treino, epochs=5, validation_split=0.2)\n"
      ],
      "execution_count": 0,
      "outputs": [
        {
          "output_type": "stream",
          "text": [
            "Train on 48000 samples, validate on 12000 samples\n",
            "Epoch 1/5\n",
            "48000/48000 [==============================] - 5s 94us/sample - loss: 10.8588 - acc: 0.6647 - val_loss: 2.2133 - val_acc: 0.7880\n",
            "Epoch 2/5\n",
            "48000/48000 [==============================] - 4s 92us/sample - loss: 3.2560 - acc: 0.7408 - val_loss: 2.8284 - val_acc: 0.7721\n",
            "Epoch 3/5\n",
            "48000/48000 [==============================] - 5s 94us/sample - loss: 3.5204 - acc: 0.7586 - val_loss: 6.4949 - val_acc: 0.7010\n",
            "Epoch 4/5\n",
            "48000/48000 [==============================] - 5s 95us/sample - loss: 3.3564 - acc: 0.7663 - val_loss: 5.4241 - val_acc: 0.7073\n",
            "Epoch 5/5\n",
            "48000/48000 [==============================] - 4s 92us/sample - loss: 3.4215 - acc: 0.7751 - val_loss: 2.0963 - val_acc: 0.8217\n"
          ],
          "name": "stdout"
        }
      ]
    },
    {
      "cell_type": "code",
      "metadata": {
        "id": "7nCSnsrf_YuH",
        "colab_type": "code",
        "outputId": "03231c3b-bd71-4aa0-a4a6-674618d2f6c9",
        "colab": {
          "base_uri": "https://localhost:8080/",
          "height": 313
        }
      },
      "source": [
        "#Plotando o grafico de acuracia por epoca\n",
        "\n",
        "plt.plot(historico.history['acc'])\n",
        "plt.plot(historico.history['val_acc'])\n",
        "plt.title('Acurácia por épocas')\n",
        "plt.xlabel('épocas')\n",
        "plt.ylabel('acurácia')\n",
        "plt.legend(['treino', 'validação'])"
      ],
      "execution_count": 0,
      "outputs": [
        {
          "output_type": "execute_result",
          "data": {
            "text/plain": [
              "<matplotlib.legend.Legend at 0x7f449a266c18>"
            ]
          },
          "metadata": {
            "tags": []
          },
          "execution_count": 33
        },
        {
          "output_type": "display_data",
          "data": {
            "image/png": "[encoded data removed]",
            "text/plain": [
              "<Figure size 432x288 with 1 Axes>"
            ]
          },
          "metadata": {
            "tags": []
          }
        }
      ]
    },
    {
      "cell_type": "markdown",
      "metadata": {
        "id": "jjPUJ7TDAWSJ",
        "colab_type": "text"
      },
      "source": [
        "Podemos ver uma flutuação muito grande na acúracia de validação.\n",
        "\n",
        "Vamos dar uma olhada na configuração do modelo usando a função get_config()"
      ]
    },
    {
      "cell_type": "code",
      "metadata": {
        "id": "yUqJGCvyAkjl",
        "colab_type": "code",
        "outputId": "4183a7f3-da2e-4bf6-b0f1-cb70dda11c31",
        "colab": {
          "base_uri": "https://localhost:8080/",
          "height": 680
        }
      },
      "source": [
        "modelo.get_config()"
      ],
      "execution_count": 0,
      "outputs": [
        {
          "output_type": "execute_result",
          "data": {
            "text/plain": [
              "{'layers': [{'class_name': 'Flatten',\n",
              "   'config': {'batch_input_shape': (None, 28, 28),\n",
              "    'data_format': 'channels_last',\n",
              "    'dtype': 'float32',\n",
              "    'name': 'flatten',\n",
              "    'trainable': True}},\n",
              "  {'class_name': 'Dense',\n",
              "   'config': {'activation': 'relu',\n",
              "    'activity_regularizer': None,\n",
              "    'bias_constraint': None,\n",
              "    'bias_initializer': {'class_name': 'Zeros',\n",
              "     'config': {'dtype': 'float32'}},\n",
              "    'bias_regularizer': None,\n",
              "    'dtype': 'float32',\n",
              "    'kernel_constraint': None,\n",
              "    'kernel_initializer': {'class_name': 'GlorotUniform',\n",
              "     'config': {'dtype': 'float32', 'seed': None}},\n",
              "    'kernel_regularizer': None,\n",
              "    'name': 'dense',\n",
              "    'trainable': True,\n",
              "    'units': 256,\n",
              "    'use_bias': True}},\n",
              "  {'class_name': 'Dense',\n",
              "   'config': {'activation': 'softmax',\n",
              "    'activity_regularizer': None,\n",
              "    'bias_constraint': None,\n",
              "    'bias_initializer': {'class_name': 'Zeros',\n",
              "     'config': {'dtype': 'float32'}},\n",
              "    'bias_regularizer': None,\n",
              "    'dtype': 'float32',\n",
              "    'kernel_constraint': None,\n",
              "    'kernel_initializer': {'class_name': 'GlorotUniform',\n",
              "     'config': {'dtype': 'float32', 'seed': None}},\n",
              "    'kernel_regularizer': None,\n",
              "    'name': 'dense_1',\n",
              "    'trainable': True,\n",
              "    'units': 10,\n",
              "    'use_bias': True}}],\n",
              " 'name': 'sequential'}"
            ]
          },
          "metadata": {
            "tags": []
          },
          "execution_count": 35
        }
      ]
    },
    {
      "cell_type": "markdown",
      "metadata": {
        "id": "vXyaiyqXA00f",
        "colab_type": "text"
      },
      "source": [
        "        Recebemos um Json. Repare na parte onde class_name: Dense tem a seguinte linha:\n",
        "\n",
        "        kernel_initializer': {'class_name': 'GlorotUniform\n",
        "\n",
        "        A classe GlorotUniform é a classe que faz o cálculo dos pesos iniciais. \n",
        "\n",
        "        Vou deixar aqui o docs desta classe e um link para um artigo que fala sobre ela:\n",
        "\n",
        "https://keras.io/initializers/\n",
        "\n",
        "http://proceedings.mlr.press/v9/glorot10a/glorot10a.pdf\n",
        "\n",
        "        Talvez esteja se perguntando sobre como os vieses são inicializados.\n",
        "        De uma forma simples até, observe a seguinte linha:\n",
        "        \n",
        "        bias_initializer': {'class_name': 'Zeros'\n",
        "        \n",
        "        Veja que a classe que inicializa os vieses é a Zeros. Logo, todos os vieses são inicializados com valor 0."
      ]
    },
    {
      "cell_type": "markdown",
      "metadata": {
        "id": "OmnXNTfZOJOS",
        "colab_type": "text"
      },
      "source": [
        "#Callbacks\n",
        "\n",
        "        Nosso modelo, na busca de um mínimo global, usando o gradiente descedente com seu otimizador, pode acabar estacionando em um mínimo local, seja na função de perda, de acurácia ou outra, parando de evoluir. Seria muito incômodo ter que ficar acompanhado varías épocas sem evolução desse determinado valor. Para essa e outras situações, o Keras tem um módulo chamado Callbacks com várias funções muito úteis na análise do treinamento.\n",
        "        \n",
        "https://keras.io/callbacks/"
      ]
    }
  ]
}