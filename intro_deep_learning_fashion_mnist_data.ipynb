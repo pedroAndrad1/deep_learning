{
  "nbformat": 4,
  "nbformat_minor": 0,
  "metadata": {
    "colab": {
      "name": "intro_deep_learning_fashion-mnist_data.ipynb",
      "version": "0.3.2",
      "provenance": [],
      "collapsed_sections": [],
      "include_colab_link": true
    },
    "kernelspec": {
      "name": "python3",
      "display_name": "Python 3"
    }
  },
  "cells": [
    {
      "cell_type": "markdown",
      "metadata": {
        "id": "view-in-github",
        "colab_type": "text"
      },
      "source": [
        "<a href=\"https://colab.research.google.com/github/pedroAndrad1/deep_learning/blob/master/intro_deep_learning_fashion_mnist_data.ipynb\" target=\"_parent\"><img src=\"https://colab.research.google.com/assets/colab-badge.svg\" alt=\"Open In Colab\"/></a>"
      ]
    },
    {
      "cell_type": "markdown",
      "metadata": {
        "id": "UHuNunqPsplg",
        "colab_type": "text"
      },
      "source": [
        "#Explorando o Dataset\n",
        "\n",
        "        Aqui vamos estudar deep learning que é uma ramificação do machine learning. No machine learning, para classificar itens, tínhamos um dataset com as varíaveis dos itens. Por exemplo, numa situação em que desejamos classificar animais entre porco e cachorro, teriámos uma dataset que diria se o animal late, tem pata curta, comprimento dos pelos etc. Mas imagine fazer isso para classificar imagens de roupas. Existem centenas de características para uma roupa. Isso dificulta muito o processo.\n",
        "\n",
        "        No deep learning, ao invés de utilizarmos essas características previamente ditas, utilizamos funções matemáticas para extrair essas características da imagem. Aqui usaremos um dataset muito famoso, o fashion_mnist. Muito recomendado para deep learning. Neste daset há setenta mil imagens de roupas de uma loja alemã chamada zalango. Todas as imagens estão em um formato de 28 x 28 pixels.\n",
        "\n",
        "        Utilizaremos a biblioteca Keras para a nossa modelagem e aprendizado. Esta biblioteca roda em cima de outra biblioteca chamada TensorFlow. Para facilitar o trabalho, usaremos o Keras que é mais alto nível que o TensorFlow. Mas lembre-se, quanto mais alto nível, menos controle temos sobre o que está acotecendo por de baixo dos panos.\n",
        "\n",
        "Docs:\n",
        "\n",
        "https://www.tensorflow.org\n",
        "\n",
        "https://keras.io"
      ]
    },
    {
      "cell_type": "code",
      "metadata": {
        "id": "ije3e5HLnfPZ",
        "colab_type": "code",
        "colab": {}
      },
      "source": [
        "from tensorflow import keras\n",
        "\n",
        "#O dataset que sera usado ja esta dentro do keras.\n",
        "#O que faz sentido, visto que ele e tao famoso e usado.\n",
        "\n",
        "#Aqui ainda nao carregamos o dataset, so damos o endereco dele.\n",
        "\n",
        "fashion_mnist = keras.datasets.fashion_mnist\n",
        "\n",
        "#Para carregar o dataset, usaremos a funcao load_data() do objeto que recebemos acima.\n",
        "#Esta funcao nos retorna uma 2-tupla cada elemento dessa tupla tambem sao 2-tupla.\n",
        "#Esses elementos ja sao o nosso dataset splitado em treino e teste. \n",
        "#E retornado o seguinte: ( (x_treino, y_treino) , (x_teste, y_teste) ).\n",
        "#Por default, e splitado, nesse caso, 60000 para treino e 10000 para teste.\n",
        "#Nao sei como funciona para outros datasets, so lendo a documentacao.\n",
        "\n",
        "#Obs: Tentei receber o retorn da funcao usando\n",
        "#x_treino, y_treino, x_teste, y_teste, como no retorno do train_test_split.\n",
        "#Nao deu certo, tem que usar tuplas mesmo.\n",
        "#Mas depois da pra chamar cada variavel individualmente.\n",
        "\n",
        "(x_treino, y_treino), (x_teste, y_teste) = fashion_mnist.load_data()"
      ],
      "execution_count": 0,
      "outputs": []
    },
    {
      "cell_type": "markdown",
      "metadata": {
        "id": "bWIpmf0WwHvy",
        "colab_type": "text"
      },
      "source": [
        "Com o dataset em mão, vamos dar uma olhada em seu conteúdo. Vamos ver o que tem no x_treino."
      ]
    },
    {
      "cell_type": "code",
      "metadata": {
        "id": "anltaXahwN7E",
        "colab_type": "code",
        "outputId": "05ef3dae-eb8e-4094-97f9-e862f1676e23",
        "colab": {
          "base_uri": "https://localhost:8080/",
          "height": 850
        }
      },
      "source": [
        "x_treino"
      ],
      "execution_count": 0,
      "outputs": [
        {
          "output_type": "execute_result",
          "data": {
            "text/plain": [
              "array([[[0, 0, 0, ..., 0, 0, 0],\n",
              "        [0, 0, 0, ..., 0, 0, 0],\n",
              "        [0, 0, 0, ..., 0, 0, 0],\n",
              "        ...,\n",
              "        [0, 0, 0, ..., 0, 0, 0],\n",
              "        [0, 0, 0, ..., 0, 0, 0],\n",
              "        [0, 0, 0, ..., 0, 0, 0]],\n",
              "\n",
              "       [[0, 0, 0, ..., 0, 0, 0],\n",
              "        [0, 0, 0, ..., 0, 0, 0],\n",
              "        [0, 0, 0, ..., 0, 0, 0],\n",
              "        ...,\n",
              "        [0, 0, 0, ..., 0, 0, 0],\n",
              "        [0, 0, 0, ..., 0, 0, 0],\n",
              "        [0, 0, 0, ..., 0, 0, 0]],\n",
              "\n",
              "       [[0, 0, 0, ..., 0, 0, 0],\n",
              "        [0, 0, 0, ..., 0, 0, 0],\n",
              "        [0, 0, 0, ..., 0, 0, 0],\n",
              "        ...,\n",
              "        [0, 0, 0, ..., 0, 0, 0],\n",
              "        [0, 0, 0, ..., 0, 0, 0],\n",
              "        [0, 0, 0, ..., 0, 0, 0]],\n",
              "\n",
              "       ...,\n",
              "\n",
              "       [[0, 0, 0, ..., 0, 0, 0],\n",
              "        [0, 0, 0, ..., 0, 0, 0],\n",
              "        [0, 0, 0, ..., 0, 0, 0],\n",
              "        ...,\n",
              "        [0, 0, 0, ..., 0, 0, 0],\n",
              "        [0, 0, 0, ..., 0, 0, 0],\n",
              "        [0, 0, 0, ..., 0, 0, 0]],\n",
              "\n",
              "       [[0, 0, 0, ..., 0, 0, 0],\n",
              "        [0, 0, 0, ..., 0, 0, 0],\n",
              "        [0, 0, 0, ..., 0, 0, 0],\n",
              "        ...,\n",
              "        [0, 0, 0, ..., 0, 0, 0],\n",
              "        [0, 0, 0, ..., 0, 0, 0],\n",
              "        [0, 0, 0, ..., 0, 0, 0]],\n",
              "\n",
              "       [[0, 0, 0, ..., 0, 0, 0],\n",
              "        [0, 0, 0, ..., 0, 0, 0],\n",
              "        [0, 0, 0, ..., 0, 0, 0],\n",
              "        ...,\n",
              "        [0, 0, 0, ..., 0, 0, 0],\n",
              "        [0, 0, 0, ..., 0, 0, 0],\n",
              "        [0, 0, 0, ..., 0, 0, 0]]], dtype=uint8)"
            ]
          },
          "metadata": {
            "tags": []
          },
          "execution_count": 2
        }
      ]
    },
    {
      "cell_type": "markdown",
      "metadata": {
        "id": "OdLkOJAWwUmh",
        "colab_type": "text"
      },
      "source": [
        "Vemos que é um array de varíos, mas precisamente 60000, arrays de 28 por 28. Estes arrays representam as nossas imagens. Cada array tem 28 por 28 porque cada imagem é de 28 x 28 pixels."
      ]
    },
    {
      "cell_type": "code",
      "metadata": {
        "id": "l1sWmAUYwtvs",
        "colab_type": "code",
        "outputId": "ab498c69-9ae0-4d1f-87f9-9339ccc97e54",
        "colab": {
          "base_uri": "https://localhost:8080/",
          "height": 34
        }
      },
      "source": [
        "x_treino.shape\n",
        "\n",
        "#Vendo o atributo shape, vemos essas informacoes.\n",
        "#O primeiro elemento diz que o length do array e de 60000.\n",
        "#A segunda e terceria informacoes dizem que cada elemento de 28x28."
      ],
      "execution_count": 0,
      "outputs": [
        {
          "output_type": "execute_result",
          "data": {
            "text/plain": [
              "(60000, 28, 28)"
            ]
          },
          "metadata": {
            "tags": []
          },
          "execution_count": 3
        }
      ]
    },
    {
      "cell_type": "markdown",
      "metadata": {
        "id": "5h3B_ANCzlTx",
        "colab_type": "text"
      },
      "source": [
        "Mas so temos numeros que representam uma imagem. Vamos usar entao o modulo plyplot da biblioteca matplotlib para plotar essas informacoes como uma imagem.\n",
        "\n",
        "docs:\n",
        "\n",
        "https://matplotlib.org/3.1.1/tutorials/introductory/pyplot.html"
      ]
    },
    {
      "cell_type": "code",
      "metadata": {
        "id": "wjOYOj7Pz6tt",
        "colab_type": "code",
        "outputId": "1745feef-eeb6-4c69-f626-9e40ea5e1c99",
        "colab": {
          "base_uri": "https://localhost:8080/",
          "height": 286
        }
      },
      "source": [
        "import matplotlib.pyplot as plt\n",
        "\n",
        "#Passaremos um elemento do x_treino para a funcao imshow do plt\n",
        "#para esta plotar uma imagem.\n",
        "\n",
        "plt.imshow(x_treino[0])"
      ],
      "execution_count": 0,
      "outputs": [
        {
          "output_type": "execute_result",
          "data": {
            "text/plain": [
              "<matplotlib.image.AxesImage at 0x7f580bc8ecc0>"
            ]
          },
          "metadata": {
            "tags": []
          },
          "execution_count": 4
        },
        {
          "output_type": "display_data",
          "data": {
            "image/png": "[encoded data removed]",
            "text/plain": [
              "<Figure size 432x288 with 1 Axes>"
            ]
          },
          "metadata": {
            "tags": []
          }
        }
      ]
    },
    {
      "cell_type": "markdown",
      "metadata": {
        "id": "_MeBx8CY4J8Z",
        "colab_type": "text"
      },
      "source": [
        "Vamos agora explorar nossas classes."
      ]
    },
    {
      "cell_type": "code",
      "metadata": {
        "id": "NIN1j1C94NBo",
        "colab_type": "code",
        "outputId": "a8d255bb-42b5-493e-d790-b5475e5978eb",
        "colab": {
          "base_uri": "https://localhost:8080/",
          "height": 34
        }
      },
      "source": [
        "y_treino"
      ],
      "execution_count": 0,
      "outputs": [
        {
          "output_type": "execute_result",
          "data": {
            "text/plain": [
              "array([9, 0, 0, ..., 3, 0, 5], dtype=uint8)"
            ]
          },
          "metadata": {
            "tags": []
          },
          "execution_count": 5
        }
      ]
    },
    {
      "cell_type": "markdown",
      "metadata": {
        "id": "mejWHxhW4TYD",
        "colab_type": "text"
      },
      "source": [
        "Opa, esperávamos que nossas classes fossem nomes como camise, tênis etc. Acontece que o dataset usa números para identificar as classes e tem uma legenda na documentação:\n",
        "\n",
        "https://github.com/zalandoresearch/fashion-mnist\n",
        "\n",
        "Esta é a legenda:\n",
        "\n",
        "0\tT-shirt/top\n",
        "\n",
        "1\tTrouser\n",
        "\n",
        "2\tPullover\n",
        "\n",
        "3\tDress\n",
        "\n",
        "4\tCoat\n",
        "\n",
        "5\tSandal\n",
        "\n",
        "6\tShirt\n",
        "\n",
        "7\tSneaker\n",
        "\n",
        "8\tBag\n",
        "\n",
        "9\tAnkle boot\n",
        "\n",
        "Vamos então criar um array com as os nomes das classes.\n"
      ]
    },
    {
      "cell_type": "code",
      "metadata": {
        "id": "DJGkyovN4Psa",
        "colab_type": "code",
        "colab": {}
      },
      "source": [
        "y_nomes = [\"T-shirt/top\", \"Trouser\", \"Pullover\", \" Dress\", \"Coat\", \"Sandal\", \"Shirt\", \"Sneaker\", \" Bag\", \"Ankle boot\" ]"
      ],
      "execution_count": 0,
      "outputs": []
    },
    {
      "cell_type": "markdown",
      "metadata": {
        "id": "DULrabNE5ikO",
        "colab_type": "text"
      },
      "source": [
        "Feito isso, vamos imprimir um conjunto de imagens usando a função subplot() do plt. \n",
        "Esta função recebe como parametrô o número de linhas, de colunas e o último é um idenx para posicionar cada imagem.Também vou usar a função title para dar um título a cada imagem.\n",
        "\n",
        "docs:\n",
        "\n",
        "https://matplotlib.org/3.1.1/api/_as_gen/matplotlib.pyplot.subplot.html\n",
        "\n",
        "Vou usar um for para iterar pelo x_treino e y_treino e plotar os elementos."
      ]
    },
    {
      "cell_type": "code",
      "metadata": {
        "id": "SMf5FMZI6PAD",
        "colab_type": "code",
        "outputId": "9313b39b-b850-414f-d53a-4cac599a3d41",
        "colab": {
          "base_uri": "https://localhost:8080/",
          "height": 240
        }
      },
      "source": [
        "for imagens in range(10):\n",
        "  #Serao duas linhas e 5 colunas\n",
        "  plt.subplot(2,5, imagens+1)\n",
        "  #Plotando a imagem\n",
        "  plt.imshow(x_treino[imagens])\n",
        "  #Dando um titulo para a imagem.\n",
        "  #O titulo sera a String na posicao da classe no array y_nomes.\n",
        "  plt.title(y_nomes[ y_treino[imagens] ])"
      ],
      "execution_count": 0,
      "outputs": [
        {
          "output_type": "display_data",
          "data": {
            "image/png": "[encoded data removed]",
            "text/plain": [
              "<Figure size 432x288 with 10 Axes>"
            ]
          },
          "metadata": {
            "tags": []
          }
        }
      ]
    },
    {
      "cell_type": "markdown",
      "metadata": {
        "id": "cBGsMcfUBUy7",
        "colab_type": "text"
      },
      "source": [
        "#Costruindo o modelo\n",
        "\n",
        "Antes, machine learning, tínhamos 3 elementos: A entrada, o processamento e a saída. A entrada eram as nossas features, o processamento era o modelo e a sáida eram os predict's que o modelo dava. \n",
        "\n",
        "Aqui, nosso modelo incorporá estes três elementos. Estas serão as camadas do modelo. Usaremos um modelo sequencial do Keras, keras.Sequential.\n",
        "\n",
        "docs:\n",
        "\n",
        "https://keras.io/getting-started/sequential-model-guide/"
      ]
    },
    {
      "cell_type": "markdown",
      "metadata": {
        "id": "KK9W5l4ICsS8",
        "colab_type": "text"
      },
      "source": [
        "#Camada 0\n",
        "\n",
        "Nesta camada estão os primeiros neurônios que terão contato com o input, aqui vamos dizer qual é o shape (formato) das entradas com as quais o modelo vai trabalhar. \n",
        "\n",
        "Camada em inglês é layer, e o Keras possui várias camadas, então escreveremos layers.\n",
        "\n",
        "Para transformarmos a nossa imagem de 28 x 28px em um array de 1 dimensão, com todos esses 28, 28 pixels, que serão a entrada, iremos fazer um achatamento para as dimensões vetoriais. Isso em inglês fica Flatten, então usaremos keras.layers.Flatten, e como é uma função, abriremos e fecharemos parênteses, passando as nossas imagens de entrada para dentro dessa primeira camada, ou camada 0.\n",
        "\n",
        "Note na documentação da funçao Sequential que há várias formas além desta de cosntruir a camada 0.\n",
        "\n",
        "docs:\n",
        "\n",
        "https://keras.io/layers/core/"
      ]
    },
    {
      "cell_type": "code",
      "metadata": {
        "id": "FTELBpkVCwED",
        "colab_type": "code",
        "colab": {}
      },
      "source": [
        "camada0 = keras.layers.Flatten( input_shape = (28,28) )"
      ],
      "execution_count": 0,
      "outputs": []
    },
    {
      "cell_type": "markdown",
      "metadata": {
        "id": "IUlE9Srxocsm",
        "colab_type": "text"
      },
      "source": [
        "#Camada 1\n",
        "\n",
        "        Aqui estarão a segunda linha de neurônios que estarão densamente conectados com os neurônios da camada anterior, ou seja, cada neurônio estará conectado com todos os n neurônios da camada anterior.\n",
        "\n",
        "        Aqui precisamos dizer quantos neurônios terão nessa camada. Ainda não sei se há uma forma de dizer quantos neurônios nesta camda é o ideal para uma melhor performance do modelo, além da tentativa e erro. \n",
        "\n",
        "        Além disso, precisamos passar como parâmetro a função de ativação desses neurônios.\n",
        "        \n",
        "        Aqui usaremos a função Dense do módulo layers da biblioteca Keras para criar essa camada. A função Dense recebe como parâmetro o número de neurônios que a camada terá, é sempre bom usar um múltiplo de 2, e a função de ativação que nesse caso será a a relu do módulo nn(Neural Networks) da biblioteca TensorFlow. A função Dense tem vários outros possíveis parâmetros interessantes. Recomendo ler a documentação no link abaixo.\n",
        "        \n",
        "\n",
        "Docs:\n",
        "\n",
        "https://keras.io/layers/core/\n",
        "\n",
        "https://www.tensorflow.org/api_docs/python/tf/nn/relu\n",
        "\n",
        "        A documentação do relu não me diz nada sobre como este funciona. Então vou escrever aqui o que eu sou sobre o relu. O relu é uma função de ativação não linear, a qual qualquer  entrada negativa é jogada em 0 e as entradas positivas continuam positivas,mas não necessariamente iguais. A não linearidade é um fator muito interessante pois eu não consigo pensar em uma forma de traçar uma reta que divide todas as nossas 10 classes. Conceitualmete, o relu vai procurar entender os contornos das imagens. Fonte: Curso Deep learning parte 1 do alura, aula 3.\n",
        "\n",
        "\n",
        "\n"
      ]
    },
    {
      "cell_type": "code",
      "metadata": {
        "id": "NtYjkWlWt2C1",
        "colab_type": "code",
        "outputId": "5cbe9acb-7454-4adb-badd-3d4fea7ab795",
        "colab": {
          "base_uri": "https://localhost:8080/",
          "height": 105
        }
      },
      "source": [
        "import tensorflow\n",
        "\n",
        "#Chutei 256 neuronios, porque sei la.\n",
        "camada1 = keras.layers.Dense(256, tensorflow.nn.relu )"
      ],
      "execution_count": 0,
      "outputs": [
        {
          "output_type": "stream",
          "text": [
            "WARNING: Logging before flag parsing goes to stderr.\n",
            "W0714 04:26:27.473778 140017093851008 deprecation.py:506] From /usr/local/lib/python3.6/dist-packages/tensorflow/python/ops/init_ops.py:1251: calling VarianceScaling.__init__ (from tensorflow.python.ops.init_ops) with dtype is deprecated and will be removed in a future version.\n",
            "Instructions for updating:\n",
            "Call initializer instance with the dtype argument instead of passing it to the constructor\n"
          ],
          "name": "stderr"
        }
      ]
    },
    {
      "cell_type": "markdown",
      "metadata": {
        "id": "7ZlB7JP-w5yq",
        "colab_type": "text"
      },
      "source": [
        "#Camada 2\n",
        "\n",
        "Aqui teremos a última camada de neurônios que estarão também densamente conectados aos neurônios da camada anterior. A função de ativação aqui era a softmax. Como também a documentação dessa função não diz como ela funciona. Direi o que sei sobre ela: O softmax vai calcular as probabilidades de um dado item ser de cada classe, as probabilidades estarão na forma de números entre 0 e 1. Se a soma dessas probabilidades for igual a 1, então ele classifica o item como da classe da probabilidade mais alta. Não sei o que ele faz caso a soma não seja igual a 1. :( Fonte: Curso de Deep Learnig do alura, aula 3.\n"
      ]
    },
    {
      "cell_type": "code",
      "metadata": {
        "id": "OQMkWwz8ydrg",
        "colab_type": "code",
        "colab": {}
      },
      "source": [
        "#Vou chutar 10 neuronios aqui, pra ir afunilando.\n",
        "camada2 = keras.layers.Dense(10, tensorflow.nn.softmax )"
      ],
      "execution_count": 0,
      "outputs": []
    },
    {
      "cell_type": "markdown",
      "metadata": {
        "id": "11dpGQKIywEa",
        "colab_type": "text"
      },
      "source": [
        "#Multi-Camadas vs Deep Learning\n",
        "\n",
        "Há uma discussão se esse modelo poderia ser considerado Deep Learning. Alguns dizem que ele poderia ser considerado Deep Learning porque deveriam haver camadas intermediárias entre a camada 1 e 2, e que na verdade esse modelo seria um multicamada. Outros dizem que isso é deep learning. Uma discussão conceitual."
      ]
    },
    {
      "cell_type": "markdown",
      "metadata": {
        "id": "zzMbL2ZazihD",
        "colab_type": "text"
      },
      "source": [
        "#Compilando o modelo\n",
        "\n",
        "Diferente de como é feito no machine learning, não podemos ainda dizer para o nosso modelo dar um fit com os nossos dados e fazer os predict's. O modelo tem uma função chamada compile. Esta função receberá dois parâmetros: optimizer e loss. O optimizer e qual otimizador será usado para o aprendizado e o loss é de que forma a perda de informação será calculado. Existem vários otimizadores e varías formas de se calcular a perda. O otimizador tem a função de regular os pesos de cada entrada nos neurônios para reduzir ao máximo a perda.\n",
        "\n",
        "Useremos a adam como otimizador e usaremos o sparse_categorical_crossentropy.\n",
        "\n",
        "fonte: https://blog.algorithmia.com/introduction-to-optimizers/\n",
        "\n"
      ]
    },
    {
      "cell_type": "code",
      "metadata": {
        "id": "wq--Uoai4j3S",
        "colab_type": "code",
        "outputId": "f304d122-c276-44db-9bbf-8a58c790be27",
        "colab": {
          "base_uri": "https://localhost:8080/",
          "height": 51
        }
      },
      "source": [
        "#Antes precisamos instanciar o modelo kk.\n",
        "#O Sequential recebe as camadas por meio de uma lista.\n",
        "modelo = keras.Sequential( [camada0, camada1, camada2 ])\n",
        "\n",
        "#Compilando o model\n",
        "modelo.compile('adam', 'sparse_categorical_crossentropy')\n",
        "\n",
        "#Agora sim podemos dar um fit\n",
        "\n",
        "modelo.fit(x_treino, y_treino)\n",
        "\n",
        "#A genre pode ver na saida qual foi a perda do modelo, quantas instancias foram\n",
        "#treinadas e quanto tempo levou no total e para cada instancia na media."
      ],
      "execution_count": 0,
      "outputs": [
        {
          "output_type": "stream",
          "text": [
            "60000/60000 [==============================] - 5s 81us/sample - loss: 3.9618\n"
          ],
          "name": "stdout"
        },
        {
          "output_type": "execute_result",
          "data": {
            "text/plain": [
              "<tensorflow.python.keras.callbacks.History at 0x7f58088b6080>"
            ]
          },
          "metadata": {
            "tags": []
          },
          "execution_count": 11
        }
      ]
    },
    {
      "cell_type": "markdown",
      "metadata": {
        "id": "zj5GGsOt7pka",
        "colab_type": "text"
      },
      "source": [
        "#Normalização\n",
        "\n",
        "Como podemos diminuir a perda do modelo? Vamos focar na camada 0. Ela recebe os pixe's da imagem. Cada pixel tem um valor que representa uma cor. Vamos ver como esse valor varia.\n",
        "\n",
        "Vou plotar uma barra de cores pra uma das imagens do dataset usando a função colorbar do plt."
      ]
    },
    {
      "cell_type": "code",
      "metadata": {
        "id": "spVQsCz2_kYv",
        "colab_type": "code",
        "outputId": "51d51232-0c65-4771-b532-205b6451fb0e",
        "colab": {
          "base_uri": "https://localhost:8080/",
          "height": 286
        }
      },
      "source": [
        "plt.imshow(x_treino[0])\n",
        "plt.colorbar()"
      ],
      "execution_count": 0,
      "outputs": [
        {
          "output_type": "execute_result",
          "data": {
            "text/plain": [
              "<matplotlib.colorbar.Colorbar at 0x7f58091c0cf8>"
            ]
          },
          "metadata": {
            "tags": []
          },
          "execution_count": 12
        },
        {
          "output_type": "display_data",
          "data": {
            "image/png": "[encoded data removed]",
            "text/plain": [
              "<Figure size 432x288 with 2 Axes>"
            ]
          },
          "metadata": {
            "tags": []
          }
        }
      ]
    },
    {
      "cell_type": "markdown",
      "metadata": {
        "id": "8XXBYYo1_5xL",
        "colab_type": "text"
      },
      "source": [
        "Vemos que esses números que representam as cores variam de 0 a 250. Essa é uma variação grande. Vamos fazer com que esses valores variem entre 0 e 1. Como? Simplesmente divindo o x_treino por 250.0. O \".0\" e para transformar o resultado em floar's pois a divisão de int por float é igual a float. "
      ]
    },
    {
      "cell_type": "code",
      "metadata": {
        "id": "D1PuBWxr_46n",
        "colab_type": "code",
        "outputId": "22614c9b-c95f-4c49-c8e4-eb14abc56b05",
        "colab": {
          "base_uri": "https://localhost:8080/",
          "height": 51
        }
      },
      "source": [
        "x_treino = x_treino/250.0\n",
        "\n",
        "modelo.fit(x_treino, y_treino)"
      ],
      "execution_count": 0,
      "outputs": [
        {
          "output_type": "stream",
          "text": [
            "60000/60000 [==============================] - 5s 79us/sample - loss: 0.8849\n"
          ],
          "name": "stdout"
        },
        {
          "output_type": "execute_result",
          "data": {
            "text/plain": [
              "<tensorflow.python.keras.callbacks.History at 0x7f5821fdde80>"
            ]
          },
          "metadata": {
            "tags": []
          },
          "execution_count": 13
        }
      ]
    },
    {
      "cell_type": "markdown",
      "metadata": {
        "id": "oyGpzcViBI5z",
        "colab_type": "text"
      },
      "source": [
        "Podemos perceber uma diminuição da perda. Vamos adicioanar mais camadas entre a 1 e a 2 para ver se temos um redução da perda."
      ]
    },
    {
      "cell_type": "code",
      "metadata": {
        "id": "k7vmI_whapVe",
        "colab_type": "code",
        "outputId": "ad8d46eb-b6ff-40d0-acee-4cdbad91433f",
        "colab": {
          "base_uri": "https://localhost:8080/",
          "height": 51
        }
      },
      "source": [
        "#Vou adicionar mais camadas com a mesma funcao de ativacao da camada 1, mas\n",
        "#como menos neuronios. Para ir afunilando.\n",
        "modelo_teste = keras.Sequential( [keras.layers.Flatten(input_shape = (28, 28) ),\n",
        "                            keras.layers.Dense(256, activation = tensorflow.nn.relu),\n",
        "                            keras.layers.Dense(128, activation = tensorflow.nn.relu),\n",
        "                            keras.layers.Dense(64, activation = tensorflow.nn.relu),\n",
        "                            keras.layers.Dense(10, activation = tensorflow.nn.softmax) ])\n",
        "\n",
        "#Vamos dar um compile e ver a perda\n",
        "modelo_teste.compile(optimizer = 'adam', loss = 'sparse_categorical_crossentropy')\n",
        "modelo_teste.fit(x_treino, y_treino)"
      ],
      "execution_count": 0,
      "outputs": [
        {
          "output_type": "stream",
          "text": [
            "60000/60000 [==============================] - 6s 101us/sample - loss: 0.4841\n"
          ],
          "name": "stdout"
        },
        {
          "output_type": "execute_result",
          "data": {
            "text/plain": [
              "<tensorflow.python.keras.callbacks.History at 0x7f58091ea898>"
            ]
          },
          "metadata": {
            "tags": []
          },
          "execution_count": 14
        }
      ]
    },
    {
      "cell_type": "markdown",
      "metadata": {
        "id": "RF3WEwyqc1hv",
        "colab_type": "text"
      },
      "source": [
        "Curiosamente tivemos uma redução da perda kk. Não estava esperando por isso :). "
      ]
    },
    {
      "cell_type": "markdown",
      "metadata": {
        "id": "aBK4RDYagshf",
        "colab_type": "text"
      },
      "source": [
        "Vamos ver a accuracy do modelo agora. Para isso, vamos passar mais um parâmetro quando usamos a função compile() que o parâmetro metrics, este recebe uma lista com as métricas que serão calculadas e exibidas. Vou passar só a accuracy."
      ]
    },
    {
      "cell_type": "code",
      "metadata": {
        "id": "o6qgJlLPhB0o",
        "colab_type": "code",
        "outputId": "25f1ed91-135b-47ac-eb82-f1c9cd85ea58",
        "colab": {
          "base_uri": "https://localhost:8080/",
          "height": 51
        }
      },
      "source": [
        "modelo_teste.compile(optimizer = 'adam', loss = 'sparse_categorical_crossentropy', metrics = ['accuracy'])\n",
        "modelo_teste.fit(x_treino, y_treino)"
      ],
      "execution_count": 0,
      "outputs": [
        {
          "output_type": "stream",
          "text": [
            "60000/60000 [==============================] - 6s 104us/sample - loss: 0.3686 - acc: 0.8649\n"
          ],
          "name": "stdout"
        },
        {
          "output_type": "execute_result",
          "data": {
            "text/plain": [
              "<tensorflow.python.keras.callbacks.History at 0x7f58039d2a90>"
            ]
          },
          "metadata": {
            "tags": []
          },
          "execution_count": 15
        }
      ]
    },
    {
      "cell_type": "markdown",
      "metadata": {
        "id": "kaLg8Ds2haCG",
        "colab_type": "text"
      },
      "source": [
        "Agora vou os introduzir ao conceito de época. Perceba que treinamos uma vez que com todas as 60000 features de treino. Isso é uma epoch (época), um ciclo de treinamento. Mas como na vida, esperamos melhorar conforme treinamos mais. Vamos adicionar mais epócas passando como parâmetro o epochs e igualando a um inteiro, que será o número de épocas, na função fit()."
      ]
    },
    {
      "cell_type": "code",
      "metadata": {
        "id": "NrJ-CzcLhKlW",
        "colab_type": "code",
        "outputId": "fe8e160d-bbea-422e-8509-c626dec6feeb",
        "colab": {
          "base_uri": "https://localhost:8080/",
          "height": 204
        }
      },
      "source": [
        "modelo_teste.fit(x_treino, y_treino, epochs = 5)"
      ],
      "execution_count": 0,
      "outputs": [
        {
          "output_type": "stream",
          "text": [
            "Epoch 1/5\n",
            "60000/60000 [==============================] - 6s 104us/sample - loss: 0.3278 - acc: 0.8788\n",
            "Epoch 2/5\n",
            "60000/60000 [==============================] - 6s 106us/sample - loss: 0.3063 - acc: 0.8867\n",
            "Epoch 3/5\n",
            "60000/60000 [==============================] - 6s 98us/sample - loss: 0.2832 - acc: 0.8949\n",
            "Epoch 4/5\n",
            "60000/60000 [==============================] - 6s 100us/sample - loss: 0.2713 - acc: 0.8979\n",
            "Epoch 5/5\n",
            "60000/60000 [==============================] - 6s 99us/sample - loss: 0.2593 - acc: 0.9021\n"
          ],
          "name": "stdout"
        },
        {
          "output_type": "execute_result",
          "data": {
            "text/plain": [
              "<tensorflow.python.keras.callbacks.History at 0x7f58091de710>"
            ]
          },
          "metadata": {
            "tags": []
          },
          "execution_count": 16
        }
      ]
    },
    {
      "cell_type": "markdown",
      "metadata": {
        "id": "e4ldZTDoidJy",
        "colab_type": "text"
      },
      "source": [
        "Perceba que a cada época a perda caiu e a acurácia ficou melhor. Mas acredito que não seja só colocar infinitas épocas que obteremos um modelo perfeito. Isso só deve funcionar até certo ponto. Mas isso é só o que minha intuição diz."
      ]
    },
    {
      "cell_type": "markdown",
      "metadata": {
        "id": "S8EEIbvNlvaO",
        "colab_type": "text"
      },
      "source": [
        "Vamos agora ver a acurácia  e perda do modelo como os dados de teste. Usando a função evaluate do modelo. Esta função recebe o x_teste e y_teste e retorna uma lista onde o primeiro elemento é a perda e o segundo elemento é a acurácia, "
      ]
    },
    {
      "cell_type": "code",
      "metadata": {
        "id": "BIE_gPuplu4_",
        "colab_type": "code",
        "outputId": "a57f758d-1ad0-4ad8-8105-148ce65e63b1",
        "colab": {
          "base_uri": "https://localhost:8080/",
          "height": 34
        }
      },
      "source": [
        "loss, accuracy = modelo_teste.evaluate(x_teste, y_teste)\n",
        "\n",
        "#Nem foi preciso printar as variaveis, as informacoes ja estao no output :)"
      ],
      "execution_count": 0,
      "outputs": [
        {
          "output_type": "stream",
          "text": [
            "10000/10000 [==============================] - 0s 46us/sample - loss: 55.4932 - acc: 0.8416\n"
          ],
          "name": "stdout"
        }
      ]
    },
    {
      "cell_type": "markdown",
      "metadata": {
        "id": "KQkpFQ3wmxHg",
        "colab_type": "text"
      },
      "source": [
        "Pode-se perceber que a perda está muito grande e acurácia não. Vamos separar um 20% das features para validação. A validação é um teste no modelo enquanto treinamos. \n",
        "\n",
        "Para fazer isso, basta passar mais um parâmetro a função fit(), validation_split. Este recebe um número entre 0 e 1 que representa a porcentagem para validação."
      ]
    },
    {
      "cell_type": "code",
      "metadata": {
        "id": "5qtHYkTsoBN3",
        "colab_type": "code",
        "outputId": "611cdeb3-f0e8-4a89-98d1-d1dbb01ba5ba",
        "colab": {
          "base_uri": "https://localhost:8080/",
          "height": 221
        }
      },
      "source": [
        "#Vou separar 20% do treino para vavlidacao\n",
        "modelo_teste.fit(x_treino, y_treino, epochs = 5, validation_split = 0.2)"
      ],
      "execution_count": 0,
      "outputs": [
        {
          "output_type": "stream",
          "text": [
            "Train on 48000 samples, validate on 12000 samples\n",
            "Epoch 1/5\n",
            "48000/48000 [==============================] - 5s 111us/sample - loss: 0.2474 - acc: 0.9075 - val_loss: 0.2465 - val_acc: 0.9078\n",
            "Epoch 2/5\n",
            "48000/48000 [==============================] - 5s 111us/sample - loss: 0.2341 - acc: 0.9126 - val_loss: 0.2626 - val_acc: 0.9030\n",
            "Epoch 3/5\n",
            "48000/48000 [==============================] - 5s 111us/sample - loss: 0.2267 - acc: 0.9145 - val_loss: 0.2565 - val_acc: 0.9065\n",
            "Epoch 4/5\n",
            "48000/48000 [==============================] - 5s 111us/sample - loss: 0.2206 - acc: 0.9175 - val_loss: 0.2759 - val_acc: 0.9017\n",
            "Epoch 5/5\n",
            "48000/48000 [==============================] - 5s 109us/sample - loss: 0.2131 - acc: 0.9192 - val_loss: 0.2655 - val_acc: 0.9014\n"
          ],
          "name": "stdout"
        },
        {
          "output_type": "execute_result",
          "data": {
            "text/plain": [
              "<tensorflow.python.keras.callbacks.History at 0x7f58091d6f98>"
            ]
          },
          "metadata": {
            "tags": []
          },
          "execution_count": 18
        }
      ]
    },
    {
      "cell_type": "markdown",
      "metadata": {
        "id": "YpR4l0q9oRlO",
        "colab_type": "text"
      },
      "source": [
        "Perceba no output a perda e a acurácia nos testes de validação.\n",
        "\n",
        "Agora, vamos salvar esses dados em uma variável. A função fit retorna um objeto keras.History. Que é um dicionário com as valores de perda, acurácia, perda na validação e acurácia na validação, seperados por época.\n",
        "\n",
        "docs:\n",
        "https://keras.io/visualization/"
      ]
    },
    {
      "cell_type": "code",
      "metadata": {
        "id": "jw_4u_zvsIWI",
        "colab_type": "code",
        "outputId": "e59f5ce4-8903-430e-dbb8-8bf9de6dbfea",
        "colab": {
          "base_uri": "https://localhost:8080/",
          "height": 408
        }
      },
      "source": [
        "history = modelo_teste.fit(x_treino, y_treino, epochs = 5, validation_split = 0.2)\n",
        "history.history"
      ],
      "execution_count": 0,
      "outputs": [
        {
          "output_type": "stream",
          "text": [
            "Train on 48000 samples, validate on 12000 samples\n",
            "Epoch 1/5\n",
            "48000/48000 [==============================] - 5s 111us/sample - loss: 0.2034 - acc: 0.9205 - val_loss: 0.2791 - val_acc: 0.8980\n",
            "Epoch 2/5\n",
            "48000/48000 [==============================] - 5s 110us/sample - loss: 0.1994 - acc: 0.9232 - val_loss: 0.2547 - val_acc: 0.9041\n",
            "Epoch 3/5\n",
            "48000/48000 [==============================] - 5s 113us/sample - loss: 0.1914 - acc: 0.9270 - val_loss: 0.2695 - val_acc: 0.9018\n",
            "Epoch 4/5\n",
            "48000/48000 [==============================] - 5s 110us/sample - loss: 0.1850 - acc: 0.9294 - val_loss: 0.2727 - val_acc: 0.9021\n",
            "Epoch 5/5\n",
            "48000/48000 [==============================] - 5s 107us/sample - loss: 0.1811 - acc: 0.9309 - val_loss: 0.2633 - val_acc: 0.9056\n"
          ],
          "name": "stdout"
        },
        {
          "output_type": "execute_result",
          "data": {
            "text/plain": [
              "{'acc': [0.9204792, 0.9231875, 0.92702085, 0.92941666, 0.93085414],\n",
              " 'loss': [0.20338594923106332,\n",
              "  0.19935254284925757,\n",
              "  0.1914117518029331,\n",
              "  0.18495286664925514,\n",
              "  0.18111705643124879],\n",
              " 'val_acc': [0.898, 0.9040833, 0.90183336, 0.90208334, 0.9055833],\n",
              " 'val_loss': [0.27914700865745545,\n",
              "  0.2546943483302991,\n",
              "  0.2695263684888681,\n",
              "  0.27273726669947307,\n",
              "  0.26325532160202664]}"
            ]
          },
          "metadata": {
            "tags": []
          },
          "execution_count": 19
        }
      ]
    },
    {
      "cell_type": "markdown",
      "metadata": {
        "id": "QGrEILuAsoX5",
        "colab_type": "text"
      },
      "source": [
        "Vamos usar essas informações para plotar dois gráficos. Um que vai comparar a acúracia no treino e acurácia na validação e outro que vai comparar a perda no treino e a perda na validação."
      ]
    },
    {
      "cell_type": "code",
      "metadata": {
        "id": "svt5-f3XtDnt",
        "colab_type": "code",
        "outputId": "119b9cbb-9672-44f1-8c9a-7736c222c272",
        "colab": {
          "base_uri": "https://localhost:8080/",
          "height": 313
        }
      },
      "source": [
        "#Plotando a linha de acuracia no treino, selecionando pelo dicionario.\n",
        "plt.plot(history.history['acc'])\n",
        "#Plotando a linha de acuracia na validacai, selecionando pelo dicionario.\n",
        "plt.plot(history.history['val_acc'])\n",
        "#Dando um titulo ao grafico\n",
        "plt.title(\"Acurácia por época\")\n",
        "#Nomeando o eixo x.\n",
        "plt.xlabel(\"época\")\n",
        "#Nomeando o eixo y.\n",
        "plt.ylabel(\"acurácia\")\n",
        "#Legendando as linhas, dizendo que a primeira linha plotada e a de treino\n",
        "#e a segunda a de validacao.\n",
        "plt.legend(['treino', 'validacao'])\n"
      ],
      "execution_count": 0,
      "outputs": [
        {
          "output_type": "execute_result",
          "data": {
            "text/plain": [
              "<matplotlib.legend.Legend at 0x7f580345e710>"
            ]
          },
          "metadata": {
            "tags": []
          },
          "execution_count": 20
        },
        {
          "output_type": "display_data",
          "data": {
            "image/png": "[encoded data removed]",
            "text/plain": [
              "<Figure size 432x288 with 1 Axes>"
            ]
          },
          "metadata": {
            "tags": []
          }
        }
      ]
    },
    {
      "cell_type": "code",
      "metadata": {
        "id": "-LSdDtsxuCaO",
        "colab_type": "code",
        "outputId": "985242b0-768e-4dac-a3c4-a4cbb8866db4",
        "colab": {
          "base_uri": "https://localhost:8080/",
          "height": 313
        }
      },
      "source": [
        "#Plotando a linha de perda no treino, selecionando pelo dicionario.\n",
        "plt.plot(history.history['loss'])\n",
        "#Plotando a linha de perda na validacao, selecionando pelo dicionario.\n",
        "plt.plot(history.history['val_loss'])\n",
        "#Dando um titulo ao grafico\n",
        "plt.title(\"Perda por época\")\n",
        "#Nomeando o eixo x.\n",
        "plt.xlabel(\"época\")\n",
        "#Nomeando o eixo y.\n",
        "plt.ylabel(\"perda\")\n",
        "#Legendando as linhas, dizendo que a primeira linha plotada e a de treino\n",
        "#e a segunda a de validacao.\n",
        "plt.legend(['treino', 'validacao'])"
      ],
      "execution_count": 0,
      "outputs": [
        {
          "output_type": "execute_result",
          "data": {
            "text/plain": [
              "<matplotlib.legend.Legend at 0x7f58033ce9b0>"
            ]
          },
          "metadata": {
            "tags": []
          },
          "execution_count": 21
        },
        {
          "output_type": "display_data",
          "data": {
            "image/png": "[encoded data removed]",
            "text/plain": [
              "<Figure size 432x288 with 1 Axes>"
            ]
          },
          "metadata": {
            "tags": []
          }
        }
      ]
    },
    {
      "cell_type": "markdown",
      "metadata": {
        "id": "4ssNsGMzvVAz",
        "colab_type": "text"
      },
      "source": [
        " #Dropout       \n",
        "        \n",
        "        \n",
        "        Podemos perceber que a acurácia de treino está muito maior que a acurácia de validação e que a perde no treino está muito menor do que a perda na validação. \n",
        "\n",
        "        Isso indica que nosso modelo está tendo um overfitting, ou seja, ele está se ajustando tão bem aos dados de treino que não está conseguindo generalizar. Logo, está apenas memorizando os dados.\n",
        "        \n",
        "        Para resolver isso, usaremos mais uma técnica de validação chamada Dropout. Que consiste em adormecer uma parte dos neurônios de cada camada, menos a primeira e a última, a cada época. Geralmente o recomendado é 20%. Então usamos o keras.layers.Dropout depois de cada camada, passado como parâmetro 0.2 que significa 20%."
      ]
    },
    {
      "cell_type": "code",
      "metadata": {
        "id": "yoDXOtg_xZRK",
        "colab_type": "code",
        "outputId": "f9f65f90-f7ee-4246-ffd5-7e853455c683",
        "colab": {
          "base_uri": "https://localhost:8080/",
          "height": 204
        }
      },
      "source": [
        "modelo_drop = keras.Sequential( [keras.layers.Flatten(input_shape = (28, 28) ),\n",
        "                            keras.layers.Dense(256, activation = tensorflow.nn.relu),\n",
        "                            keras.layers.Dropout(0.2),\n",
        "                            keras.layers.Dense(128, activation = tensorflow.nn.relu),\n",
        "                            keras.layers.Dropout(0.2),\n",
        "                            keras.layers.Dense(64, activation = tensorflow.nn.relu),\n",
        "                            keras.layers.Dropout(0.2),\n",
        "                            keras.layers.Dense(10, activation = tensorflow.nn.softmax) ])\n",
        "\n",
        "modelo_drop.compile(optimizer = 'adam', loss = 'sparse_categorical_crossentropy', metrics = ['accuracy'])\n",
        "history = modelo_drop.fit(x_treino, y_treino, validation_split = 0.2, epochs = 5)\n"
      ],
      "execution_count": 0,
      "outputs": [
        {
          "output_type": "stream",
          "text": [
            "Train on 48000 samples, validate on 12000 samples\n",
            "Epoch 1/5\n",
            "48000/48000 [==============================] - 6s 127us/sample - loss: 0.6188 - acc: 0.7792 - val_loss: 0.4485 - val_acc: 0.8370\n",
            "Epoch 2/5\n",
            "48000/48000 [==============================] - 6s 122us/sample - loss: 0.4432 - acc: 0.8396 - val_loss: 0.3750 - val_acc: 0.8591\n",
            "Epoch 3/5\n",
            "48000/48000 [==============================] - 6s 119us/sample - loss: 0.4035 - acc: 0.8545 - val_loss: 0.3859 - val_acc: 0.8607\n",
            "Epoch 4/5\n",
            "48000/48000 [==============================] - 6s 117us/sample - loss: 0.3824 - acc: 0.8618 - val_loss: 0.3622 - val_acc: 0.8652\n",
            "Epoch 5/5\n",
            "48000/48000 [==============================] - 6s 115us/sample - loss: 0.3656 - acc: 0.8664 - val_loss: 0.3502 - val_acc: 0.8709\n"
          ],
          "name": "stdout"
        }
      ]
    },
    {
      "cell_type": "code",
      "metadata": {
        "id": "rOInJ_HPy45Z",
        "colab_type": "code",
        "outputId": "1da6032c-cc80-489c-af60-e1e78ada4bb9",
        "colab": {
          "base_uri": "https://localhost:8080/",
          "height": 221
        }
      },
      "source": [
        "history.history"
      ],
      "execution_count": 0,
      "outputs": [
        {
          "output_type": "execute_result",
          "data": {
            "text/plain": [
              "{'acc': [0.77916664, 0.8395625, 0.85445833, 0.8618125, 0.86639583],\n",
              " 'loss': [0.6188010673224926,\n",
              "  0.44316688978672025,\n",
              "  0.40350783470273016,\n",
              "  0.38236395016809305,\n",
              "  0.36561419699092707],\n",
              " 'val_acc': [0.837, 0.85908335, 0.8606667, 0.86525, 0.87091666],\n",
              " 'val_loss': [0.44846864263216657,\n",
              "  0.37504004061222074,\n",
              "  0.3858725297053655,\n",
              "  0.362197007060051,\n",
              "  0.35017156213521955]}"
            ]
          },
          "metadata": {
            "tags": []
          },
          "execution_count": 32
        }
      ]
    },
    {
      "cell_type": "code",
      "metadata": {
        "id": "cft_ltOzykP9",
        "colab_type": "code",
        "outputId": "d54ec3a5-c061-4e2d-c7f6-e26538a9672b",
        "colab": {
          "base_uri": "https://localhost:8080/",
          "height": 313
        }
      },
      "source": [
        "#Plotando a linha de acuracia no treino, selecionando pelo dicionario.\n",
        "plt.plot(history.history['acc'])\n",
        "#Plotando a linha de acuracia na validacao, selecionando pelo dicionario.\n",
        "plt.plot(history.history['val_acc'])\n",
        "#Dando um titulo ao grafico\n",
        "plt.title(\"Acurácia por época\")\n",
        "#Nomeando o eixo x.\n",
        "plt.xlabel(\"época\")\n",
        "#Nomeando o eixo y.\n",
        "plt.ylabel(\"acurácia\")\n",
        "#Legendando as linhas, dizendo que a primeira linha plotada e a de treino\n",
        "#e a segunda a de validacao.\n",
        "plt.legend(['treino', 'validacao'])"
      ],
      "execution_count": 0,
      "outputs": [
        {
          "output_type": "execute_result",
          "data": {
            "text/plain": [
              "<matplotlib.legend.Legend at 0x7f5801ccb320>"
            ]
          },
          "metadata": {
            "tags": []
          },
          "execution_count": 33
        },
        {
          "output_type": "display_data",
          "data": {
            "image/png": "[encoded data removed]",
            "text/plain": [
              "<Figure size 432x288 with 1 Axes>"
            ]
          },
          "metadata": {
            "tags": []
          }
        }
      ]
    },
    {
      "cell_type": "code",
      "metadata": {
        "id": "5TlXZfspyoAm",
        "colab_type": "code",
        "outputId": "a2d3edbf-8cb9-406a-bffb-e299d90cde0e",
        "colab": {
          "base_uri": "https://localhost:8080/",
          "height": 313
        }
      },
      "source": [
        "#Plotando a linha de perda no treino, selecionando pelo dicionario.\n",
        "plt.plot(history.history['loss'])\n",
        "#Plotando a linha de perda na validacao, selecionando pelo dicionario.\n",
        "plt.plot(history.history['val_loss'])\n",
        "#Dando um titulo ao grafico\n",
        "plt.title(\"Perda por época\")\n",
        "#Nomeando o eixo x.\n",
        "plt.xlabel(\"época\")\n",
        "#Nomeando o eixo y.\n",
        "plt.ylabel(\"perda\")\n",
        "#Legendando as linhas, dizendo que a primeira linha plotada e a de treino\n",
        "#e a segunda a de validacao.\n",
        "plt.legend(['treino', 'validacao'])"
      ],
      "execution_count": 0,
      "outputs": [
        {
          "output_type": "execute_result",
          "data": {
            "text/plain": [
              "<matplotlib.legend.Legend at 0x7f5801c86668>"
            ]
          },
          "metadata": {
            "tags": []
          },
          "execution_count": 34
        },
        {
          "output_type": "display_data",
          "data": {
            "image/png": "[encoded data removed]",
            "text/plain": [
              "<Figure size 432x288 with 1 Axes>"
            ]
          },
          "metadata": {
            "tags": []
          }
        }
      ]
    },
    {
      "cell_type": "markdown",
      "metadata": {
        "id": "dmX3U6tFzjoq",
        "colab_type": "text"
      },
      "source": [
        "Podemos ver que agora o comportamento das linhas de treino e de validação estão bem parecidos, isso quer dizer que não está acontecendo mais o overfitting."
      ]
    },
    {
      "cell_type": "markdown",
      "metadata": {
        "id": "0S0io0xN2Bir",
        "colab_type": "text"
      },
      "source": [
        "#Salvando o modelo\n",
        "\n",
        "Para salvar o modelo, usamos a função do save do keras e para carregarmos um modelo usamos a função load_model. A função save recebe como parâmetro o nome do arquivo e a extensão h5 que é de HDF5.\n",
        "\n",
        "Para usar o load_model, você tem que importar essa função de tensorflow.keras.models"
      ]
    },
    {
      "cell_type": "code",
      "metadata": {
        "id": "w9ky8oz92bqo",
        "colab_type": "code",
        "colab": {}
      },
      "source": [
        "modelo_drop.save('intro_deeplearning_modelo.h5')"
      ],
      "execution_count": 0,
      "outputs": []
    }
  ]
}